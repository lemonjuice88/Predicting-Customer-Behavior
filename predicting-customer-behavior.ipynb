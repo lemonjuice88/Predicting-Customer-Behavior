{
 "cells": [
  {
   "cell_type": "markdown",
   "id": "bedea525",
   "metadata": {
    "papermill": {
     "duration": 0.00636,
     "end_time": "2025-09-04T10:57:09.918451",
     "exception": false,
     "start_time": "2025-09-04T10:57:09.912091",
     "status": "completed"
    },
    "tags": []
   },
   "source": [
    "# Project"
   ]
  },
  {
   "cell_type": "markdown",
   "id": "c4ba93e1",
   "metadata": {
    "papermill": {
     "duration": 0.004946,
     "end_time": "2025-09-04T10:57:09.928683",
     "exception": false,
     "start_time": "2025-09-04T10:57:09.923737",
     "status": "completed"
    },
    "tags": []
   },
   "source": [
    "###  GOAL : Creating a model to predict whether a client will subscribe to a bank term deposit by using some features.\n",
    "\n",
    "###  DataSet : Binary Classification with a Bank Dataset which is provided by Kaggle"
   ]
  },
  {
   "cell_type": "markdown",
   "id": "fcb22106",
   "metadata": {
    "papermill": {
     "duration": 0.004876,
     "end_time": "2025-09-04T10:57:09.938506",
     "exception": false,
     "start_time": "2025-09-04T10:57:09.933630",
     "status": "completed"
    },
    "tags": []
   },
   "source": [
    "# Imports"
   ]
  },
  {
   "cell_type": "code",
   "execution_count": 1,
   "id": "52d26734",
   "metadata": {
    "execution": {
     "iopub.execute_input": "2025-09-04T10:57:09.950039Z",
     "iopub.status.busy": "2025-09-04T10:57:09.949818Z",
     "iopub.status.idle": "2025-09-04T10:57:23.415406Z",
     "shell.execute_reply": "2025-09-04T10:57:23.414634Z"
    },
    "papermill": {
     "duration": 13.472787,
     "end_time": "2025-09-04T10:57:23.416900",
     "exception": false,
     "start_time": "2025-09-04T10:57:09.944113",
     "status": "completed"
    },
    "tags": []
   },
   "outputs": [],
   "source": [
    "import seaborn as sns\n",
    "import matplotlib.pyplot as plt\n",
    "from sklearn.preprocessing import LabelEncoder\n",
    "from sklearn.preprocessing import StandardScaler\n",
    "from sklearn.model_selection import train_test_split\n",
    "from catboost import CatBoostClassifier\n",
    "from sklearn.metrics import f1_score\n",
    "from sklearn.metrics import roc_auc_score\n",
    "from xgboost import XGBClassifier\n",
    "from lightgbm import LGBMClassifier\n",
    "import lightgbm as lgb\n",
    "from sklearn.model_selection import StratifiedKFold\n",
    "from sklearn.ensemble import VotingClassifier\n",
    "from sklearn.metrics import classification_report\n",
    "from sklearn.metrics import confusion_matrix\n",
    "import numpy as np\n",
    "import pandas as pd\n"
   ]
  },
  {
   "cell_type": "markdown",
   "id": "09e5b81f",
   "metadata": {
    "papermill": {
     "duration": 0.004888,
     "end_time": "2025-09-04T10:57:23.427162",
     "exception": false,
     "start_time": "2025-09-04T10:57:23.422274",
     "status": "completed"
    },
    "tags": []
   },
   "source": [
    "# Recognizing the Data"
   ]
  },
  {
   "cell_type": "code",
   "execution_count": 2,
   "id": "4d40a678",
   "metadata": {
    "execution": {
     "iopub.execute_input": "2025-09-04T10:57:23.438108Z",
     "iopub.status.busy": "2025-09-04T10:57:23.437649Z",
     "iopub.status.idle": "2025-09-04T10:57:25.859341Z",
     "shell.execute_reply": "2025-09-04T10:57:25.858456Z"
    },
    "papermill": {
     "duration": 2.428811,
     "end_time": "2025-09-04T10:57:25.860879",
     "exception": false,
     "start_time": "2025-09-04T10:57:23.432068",
     "status": "completed"
    },
    "tags": []
   },
   "outputs": [],
   "source": [
    "train = pd.read_csv(\"/kaggle/input/playground-series-s5e8/train.csv\")\n",
    "test = pd.read_csv(\"/kaggle/input/playground-series-s5e8/test.csv\")"
   ]
  },
  {
   "cell_type": "code",
   "execution_count": 3,
   "id": "a25ca27b",
   "metadata": {
    "execution": {
     "iopub.execute_input": "2025-09-04T10:57:25.873250Z",
     "iopub.status.busy": "2025-09-04T10:57:25.873012Z",
     "iopub.status.idle": "2025-09-04T10:57:25.900953Z",
     "shell.execute_reply": "2025-09-04T10:57:25.900246Z"
    },
    "papermill": {
     "duration": 0.035301,
     "end_time": "2025-09-04T10:57:25.902068",
     "exception": false,
     "start_time": "2025-09-04T10:57:25.866767",
     "status": "completed"
    },
    "tags": []
   },
   "outputs": [
    {
     "data": {
      "text/html": [
       "<div>\n",
       "<style scoped>\n",
       "    .dataframe tbody tr th:only-of-type {\n",
       "        vertical-align: middle;\n",
       "    }\n",
       "\n",
       "    .dataframe tbody tr th {\n",
       "        vertical-align: top;\n",
       "    }\n",
       "\n",
       "    .dataframe thead th {\n",
       "        text-align: right;\n",
       "    }\n",
       "</style>\n",
       "<table border=\"1\" class=\"dataframe\">\n",
       "  <thead>\n",
       "    <tr style=\"text-align: right;\">\n",
       "      <th></th>\n",
       "      <th>id</th>\n",
       "      <th>age</th>\n",
       "      <th>job</th>\n",
       "      <th>marital</th>\n",
       "      <th>education</th>\n",
       "      <th>default</th>\n",
       "      <th>balance</th>\n",
       "      <th>housing</th>\n",
       "      <th>loan</th>\n",
       "      <th>contact</th>\n",
       "      <th>day</th>\n",
       "      <th>month</th>\n",
       "      <th>duration</th>\n",
       "      <th>campaign</th>\n",
       "      <th>pdays</th>\n",
       "      <th>previous</th>\n",
       "      <th>poutcome</th>\n",
       "      <th>y</th>\n",
       "    </tr>\n",
       "  </thead>\n",
       "  <tbody>\n",
       "    <tr>\n",
       "      <th>0</th>\n",
       "      <td>0</td>\n",
       "      <td>42</td>\n",
       "      <td>technician</td>\n",
       "      <td>married</td>\n",
       "      <td>secondary</td>\n",
       "      <td>no</td>\n",
       "      <td>7</td>\n",
       "      <td>no</td>\n",
       "      <td>no</td>\n",
       "      <td>cellular</td>\n",
       "      <td>25</td>\n",
       "      <td>aug</td>\n",
       "      <td>117</td>\n",
       "      <td>3</td>\n",
       "      <td>-1</td>\n",
       "      <td>0</td>\n",
       "      <td>unknown</td>\n",
       "      <td>0</td>\n",
       "    </tr>\n",
       "    <tr>\n",
       "      <th>1</th>\n",
       "      <td>1</td>\n",
       "      <td>38</td>\n",
       "      <td>blue-collar</td>\n",
       "      <td>married</td>\n",
       "      <td>secondary</td>\n",
       "      <td>no</td>\n",
       "      <td>514</td>\n",
       "      <td>no</td>\n",
       "      <td>no</td>\n",
       "      <td>unknown</td>\n",
       "      <td>18</td>\n",
       "      <td>jun</td>\n",
       "      <td>185</td>\n",
       "      <td>1</td>\n",
       "      <td>-1</td>\n",
       "      <td>0</td>\n",
       "      <td>unknown</td>\n",
       "      <td>0</td>\n",
       "    </tr>\n",
       "    <tr>\n",
       "      <th>2</th>\n",
       "      <td>2</td>\n",
       "      <td>36</td>\n",
       "      <td>blue-collar</td>\n",
       "      <td>married</td>\n",
       "      <td>secondary</td>\n",
       "      <td>no</td>\n",
       "      <td>602</td>\n",
       "      <td>yes</td>\n",
       "      <td>no</td>\n",
       "      <td>unknown</td>\n",
       "      <td>14</td>\n",
       "      <td>may</td>\n",
       "      <td>111</td>\n",
       "      <td>2</td>\n",
       "      <td>-1</td>\n",
       "      <td>0</td>\n",
       "      <td>unknown</td>\n",
       "      <td>0</td>\n",
       "    </tr>\n",
       "    <tr>\n",
       "      <th>3</th>\n",
       "      <td>3</td>\n",
       "      <td>27</td>\n",
       "      <td>student</td>\n",
       "      <td>single</td>\n",
       "      <td>secondary</td>\n",
       "      <td>no</td>\n",
       "      <td>34</td>\n",
       "      <td>yes</td>\n",
       "      <td>no</td>\n",
       "      <td>unknown</td>\n",
       "      <td>28</td>\n",
       "      <td>may</td>\n",
       "      <td>10</td>\n",
       "      <td>2</td>\n",
       "      <td>-1</td>\n",
       "      <td>0</td>\n",
       "      <td>unknown</td>\n",
       "      <td>0</td>\n",
       "    </tr>\n",
       "    <tr>\n",
       "      <th>4</th>\n",
       "      <td>4</td>\n",
       "      <td>26</td>\n",
       "      <td>technician</td>\n",
       "      <td>married</td>\n",
       "      <td>secondary</td>\n",
       "      <td>no</td>\n",
       "      <td>889</td>\n",
       "      <td>yes</td>\n",
       "      <td>no</td>\n",
       "      <td>cellular</td>\n",
       "      <td>3</td>\n",
       "      <td>feb</td>\n",
       "      <td>902</td>\n",
       "      <td>1</td>\n",
       "      <td>-1</td>\n",
       "      <td>0</td>\n",
       "      <td>unknown</td>\n",
       "      <td>1</td>\n",
       "    </tr>\n",
       "  </tbody>\n",
       "</table>\n",
       "</div>"
      ],
      "text/plain": [
       "   id  age          job  marital  education default  balance housing loan  \\\n",
       "0   0   42   technician  married  secondary      no        7      no   no   \n",
       "1   1   38  blue-collar  married  secondary      no      514      no   no   \n",
       "2   2   36  blue-collar  married  secondary      no      602     yes   no   \n",
       "3   3   27      student   single  secondary      no       34     yes   no   \n",
       "4   4   26   technician  married  secondary      no      889     yes   no   \n",
       "\n",
       "    contact  day month  duration  campaign  pdays  previous poutcome  y  \n",
       "0  cellular   25   aug       117         3     -1         0  unknown  0  \n",
       "1   unknown   18   jun       185         1     -1         0  unknown  0  \n",
       "2   unknown   14   may       111         2     -1         0  unknown  0  \n",
       "3   unknown   28   may        10         2     -1         0  unknown  0  \n",
       "4  cellular    3   feb       902         1     -1         0  unknown  1  "
      ]
     },
     "execution_count": 3,
     "metadata": {},
     "output_type": "execute_result"
    }
   ],
   "source": [
    "train.head()\n"
   ]
  },
  {
   "cell_type": "code",
   "execution_count": 4,
   "id": "b1fd028b",
   "metadata": {
    "execution": {
     "iopub.execute_input": "2025-09-04T10:57:25.913369Z",
     "iopub.status.busy": "2025-09-04T10:57:25.913093Z",
     "iopub.status.idle": "2025-09-04T10:57:25.923963Z",
     "shell.execute_reply": "2025-09-04T10:57:25.923231Z"
    },
    "papermill": {
     "duration": 0.017778,
     "end_time": "2025-09-04T10:57:25.925074",
     "exception": false,
     "start_time": "2025-09-04T10:57:25.907296",
     "status": "completed"
    },
    "tags": []
   },
   "outputs": [
    {
     "data": {
      "text/html": [
       "<div>\n",
       "<style scoped>\n",
       "    .dataframe tbody tr th:only-of-type {\n",
       "        vertical-align: middle;\n",
       "    }\n",
       "\n",
       "    .dataframe tbody tr th {\n",
       "        vertical-align: top;\n",
       "    }\n",
       "\n",
       "    .dataframe thead th {\n",
       "        text-align: right;\n",
       "    }\n",
       "</style>\n",
       "<table border=\"1\" class=\"dataframe\">\n",
       "  <thead>\n",
       "    <tr style=\"text-align: right;\">\n",
       "      <th></th>\n",
       "      <th>id</th>\n",
       "      <th>age</th>\n",
       "      <th>job</th>\n",
       "      <th>marital</th>\n",
       "      <th>education</th>\n",
       "      <th>default</th>\n",
       "      <th>balance</th>\n",
       "      <th>housing</th>\n",
       "      <th>loan</th>\n",
       "      <th>contact</th>\n",
       "      <th>day</th>\n",
       "      <th>month</th>\n",
       "      <th>duration</th>\n",
       "      <th>campaign</th>\n",
       "      <th>pdays</th>\n",
       "      <th>previous</th>\n",
       "      <th>poutcome</th>\n",
       "    </tr>\n",
       "  </thead>\n",
       "  <tbody>\n",
       "    <tr>\n",
       "      <th>0</th>\n",
       "      <td>750000</td>\n",
       "      <td>32</td>\n",
       "      <td>blue-collar</td>\n",
       "      <td>married</td>\n",
       "      <td>secondary</td>\n",
       "      <td>no</td>\n",
       "      <td>1397</td>\n",
       "      <td>yes</td>\n",
       "      <td>no</td>\n",
       "      <td>unknown</td>\n",
       "      <td>21</td>\n",
       "      <td>may</td>\n",
       "      <td>224</td>\n",
       "      <td>1</td>\n",
       "      <td>-1</td>\n",
       "      <td>0</td>\n",
       "      <td>unknown</td>\n",
       "    </tr>\n",
       "    <tr>\n",
       "      <th>1</th>\n",
       "      <td>750001</td>\n",
       "      <td>44</td>\n",
       "      <td>management</td>\n",
       "      <td>married</td>\n",
       "      <td>tertiary</td>\n",
       "      <td>no</td>\n",
       "      <td>23</td>\n",
       "      <td>yes</td>\n",
       "      <td>no</td>\n",
       "      <td>cellular</td>\n",
       "      <td>3</td>\n",
       "      <td>apr</td>\n",
       "      <td>586</td>\n",
       "      <td>2</td>\n",
       "      <td>-1</td>\n",
       "      <td>0</td>\n",
       "      <td>unknown</td>\n",
       "    </tr>\n",
       "    <tr>\n",
       "      <th>2</th>\n",
       "      <td>750002</td>\n",
       "      <td>36</td>\n",
       "      <td>self-employed</td>\n",
       "      <td>married</td>\n",
       "      <td>primary</td>\n",
       "      <td>no</td>\n",
       "      <td>46</td>\n",
       "      <td>yes</td>\n",
       "      <td>yes</td>\n",
       "      <td>cellular</td>\n",
       "      <td>13</td>\n",
       "      <td>may</td>\n",
       "      <td>111</td>\n",
       "      <td>2</td>\n",
       "      <td>-1</td>\n",
       "      <td>0</td>\n",
       "      <td>unknown</td>\n",
       "    </tr>\n",
       "    <tr>\n",
       "      <th>3</th>\n",
       "      <td>750003</td>\n",
       "      <td>58</td>\n",
       "      <td>blue-collar</td>\n",
       "      <td>married</td>\n",
       "      <td>secondary</td>\n",
       "      <td>no</td>\n",
       "      <td>-1380</td>\n",
       "      <td>yes</td>\n",
       "      <td>yes</td>\n",
       "      <td>unknown</td>\n",
       "      <td>29</td>\n",
       "      <td>may</td>\n",
       "      <td>125</td>\n",
       "      <td>1</td>\n",
       "      <td>-1</td>\n",
       "      <td>0</td>\n",
       "      <td>unknown</td>\n",
       "    </tr>\n",
       "    <tr>\n",
       "      <th>4</th>\n",
       "      <td>750004</td>\n",
       "      <td>28</td>\n",
       "      <td>technician</td>\n",
       "      <td>single</td>\n",
       "      <td>secondary</td>\n",
       "      <td>no</td>\n",
       "      <td>1950</td>\n",
       "      <td>yes</td>\n",
       "      <td>no</td>\n",
       "      <td>cellular</td>\n",
       "      <td>22</td>\n",
       "      <td>jul</td>\n",
       "      <td>181</td>\n",
       "      <td>1</td>\n",
       "      <td>-1</td>\n",
       "      <td>0</td>\n",
       "      <td>unknown</td>\n",
       "    </tr>\n",
       "  </tbody>\n",
       "</table>\n",
       "</div>"
      ],
      "text/plain": [
       "       id  age            job  marital  education default  balance housing  \\\n",
       "0  750000   32    blue-collar  married  secondary      no     1397     yes   \n",
       "1  750001   44     management  married   tertiary      no       23     yes   \n",
       "2  750002   36  self-employed  married    primary      no       46     yes   \n",
       "3  750003   58    blue-collar  married  secondary      no    -1380     yes   \n",
       "4  750004   28     technician   single  secondary      no     1950     yes   \n",
       "\n",
       "  loan   contact  day month  duration  campaign  pdays  previous poutcome  \n",
       "0   no   unknown   21   may       224         1     -1         0  unknown  \n",
       "1   no  cellular    3   apr       586         2     -1         0  unknown  \n",
       "2  yes  cellular   13   may       111         2     -1         0  unknown  \n",
       "3  yes   unknown   29   may       125         1     -1         0  unknown  \n",
       "4   no  cellular   22   jul       181         1     -1         0  unknown  "
      ]
     },
     "execution_count": 4,
     "metadata": {},
     "output_type": "execute_result"
    }
   ],
   "source": [
    "test.head()"
   ]
  },
  {
   "cell_type": "markdown",
   "id": "97e0e8ea",
   "metadata": {
    "papermill": {
     "duration": 0.005105,
     "end_time": "2025-09-04T10:57:25.935608",
     "exception": false,
     "start_time": "2025-09-04T10:57:25.930503",
     "status": "completed"
    },
    "tags": []
   },
   "source": [
    "## We need to get rid of [id] columns to get data which is proper to model usage."
   ]
  },
  {
   "cell_type": "code",
   "execution_count": 5,
   "id": "17b7d5c0",
   "metadata": {
    "execution": {
     "iopub.execute_input": "2025-09-04T10:57:25.946884Z",
     "iopub.status.busy": "2025-09-04T10:57:25.946486Z",
     "iopub.status.idle": "2025-09-04T10:57:26.046148Z",
     "shell.execute_reply": "2025-09-04T10:57:26.045354Z"
    },
    "papermill": {
     "duration": 0.106788,
     "end_time": "2025-09-04T10:57:26.047565",
     "exception": false,
     "start_time": "2025-09-04T10:57:25.940777",
     "status": "completed"
    },
    "tags": []
   },
   "outputs": [],
   "source": [
    "train.drop(columns = [\"id\"],axis = 1,inplace = True)\n",
    "test.drop(columns = [\"id\"],axis = 1,inplace = True)\n"
   ]
  },
  {
   "cell_type": "markdown",
   "id": "0f3981a2",
   "metadata": {
    "papermill": {
     "duration": 0.005188,
     "end_time": "2025-09-04T10:57:26.058423",
     "exception": false,
     "start_time": "2025-09-04T10:57:26.053235",
     "status": "completed"
    },
    "tags": []
   },
   "source": [
    "# LabelEncoder"
   ]
  },
  {
   "cell_type": "markdown",
   "id": "3fb1a5ca",
   "metadata": {
    "papermill": {
     "duration": 0.005089,
     "end_time": "2025-09-04T10:57:26.068784",
     "exception": false,
     "start_time": "2025-09-04T10:57:26.063695",
     "status": "completed"
    },
    "tags": []
   },
   "source": [
    "We should convert columns whose type is object to integers by using LabelEncoder"
   ]
  },
  {
   "cell_type": "code",
   "execution_count": 6,
   "id": "2206684d",
   "metadata": {
    "execution": {
     "iopub.execute_input": "2025-09-04T10:57:26.080716Z",
     "iopub.status.busy": "2025-09-04T10:57:26.080445Z",
     "iopub.status.idle": "2025-09-04T10:57:27.560926Z",
     "shell.execute_reply": "2025-09-04T10:57:27.560112Z"
    },
    "papermill": {
     "duration": 1.488424,
     "end_time": "2025-09-04T10:57:27.562389",
     "exception": false,
     "start_time": "2025-09-04T10:57:26.073965",
     "status": "completed"
    },
    "tags": []
   },
   "outputs": [],
   "source": [
    "LE = LabelEncoder()\n",
    "for column in train.columns:\n",
    "    if train[column].dtype == \"object\":\n",
    "        train[column] = LE.fit_transform(train[column].astype(str))\n",
    "\n",
    "for column in test.columns:\n",
    "    if test[column].dtype == \"object\":\n",
    "        test[column] = LE.fit_transform(test[column].astype(str))\n",
    "\n"
   ]
  },
  {
   "cell_type": "code",
   "execution_count": 7,
   "id": "818329bb",
   "metadata": {
    "execution": {
     "iopub.execute_input": "2025-09-04T10:57:27.574247Z",
     "iopub.status.busy": "2025-09-04T10:57:27.574023Z",
     "iopub.status.idle": "2025-09-04T10:57:27.583303Z",
     "shell.execute_reply": "2025-09-04T10:57:27.582627Z"
    },
    "papermill": {
     "duration": 0.01635,
     "end_time": "2025-09-04T10:57:27.584374",
     "exception": false,
     "start_time": "2025-09-04T10:57:27.568024",
     "status": "completed"
    },
    "tags": []
   },
   "outputs": [
    {
     "data": {
      "text/html": [
       "<div>\n",
       "<style scoped>\n",
       "    .dataframe tbody tr th:only-of-type {\n",
       "        vertical-align: middle;\n",
       "    }\n",
       "\n",
       "    .dataframe tbody tr th {\n",
       "        vertical-align: top;\n",
       "    }\n",
       "\n",
       "    .dataframe thead th {\n",
       "        text-align: right;\n",
       "    }\n",
       "</style>\n",
       "<table border=\"1\" class=\"dataframe\">\n",
       "  <thead>\n",
       "    <tr style=\"text-align: right;\">\n",
       "      <th></th>\n",
       "      <th>age</th>\n",
       "      <th>job</th>\n",
       "      <th>marital</th>\n",
       "      <th>education</th>\n",
       "      <th>default</th>\n",
       "      <th>balance</th>\n",
       "      <th>housing</th>\n",
       "      <th>loan</th>\n",
       "      <th>contact</th>\n",
       "      <th>day</th>\n",
       "      <th>month</th>\n",
       "      <th>duration</th>\n",
       "      <th>campaign</th>\n",
       "      <th>pdays</th>\n",
       "      <th>previous</th>\n",
       "      <th>poutcome</th>\n",
       "      <th>y</th>\n",
       "    </tr>\n",
       "  </thead>\n",
       "  <tbody>\n",
       "    <tr>\n",
       "      <th>0</th>\n",
       "      <td>42</td>\n",
       "      <td>9</td>\n",
       "      <td>1</td>\n",
       "      <td>1</td>\n",
       "      <td>0</td>\n",
       "      <td>7</td>\n",
       "      <td>0</td>\n",
       "      <td>0</td>\n",
       "      <td>0</td>\n",
       "      <td>25</td>\n",
       "      <td>1</td>\n",
       "      <td>117</td>\n",
       "      <td>3</td>\n",
       "      <td>-1</td>\n",
       "      <td>0</td>\n",
       "      <td>3</td>\n",
       "      <td>0</td>\n",
       "    </tr>\n",
       "    <tr>\n",
       "      <th>1</th>\n",
       "      <td>38</td>\n",
       "      <td>1</td>\n",
       "      <td>1</td>\n",
       "      <td>1</td>\n",
       "      <td>0</td>\n",
       "      <td>514</td>\n",
       "      <td>0</td>\n",
       "      <td>0</td>\n",
       "      <td>2</td>\n",
       "      <td>18</td>\n",
       "      <td>6</td>\n",
       "      <td>185</td>\n",
       "      <td>1</td>\n",
       "      <td>-1</td>\n",
       "      <td>0</td>\n",
       "      <td>3</td>\n",
       "      <td>0</td>\n",
       "    </tr>\n",
       "    <tr>\n",
       "      <th>2</th>\n",
       "      <td>36</td>\n",
       "      <td>1</td>\n",
       "      <td>1</td>\n",
       "      <td>1</td>\n",
       "      <td>0</td>\n",
       "      <td>602</td>\n",
       "      <td>1</td>\n",
       "      <td>0</td>\n",
       "      <td>2</td>\n",
       "      <td>14</td>\n",
       "      <td>8</td>\n",
       "      <td>111</td>\n",
       "      <td>2</td>\n",
       "      <td>-1</td>\n",
       "      <td>0</td>\n",
       "      <td>3</td>\n",
       "      <td>0</td>\n",
       "    </tr>\n",
       "    <tr>\n",
       "      <th>3</th>\n",
       "      <td>27</td>\n",
       "      <td>8</td>\n",
       "      <td>2</td>\n",
       "      <td>1</td>\n",
       "      <td>0</td>\n",
       "      <td>34</td>\n",
       "      <td>1</td>\n",
       "      <td>0</td>\n",
       "      <td>2</td>\n",
       "      <td>28</td>\n",
       "      <td>8</td>\n",
       "      <td>10</td>\n",
       "      <td>2</td>\n",
       "      <td>-1</td>\n",
       "      <td>0</td>\n",
       "      <td>3</td>\n",
       "      <td>0</td>\n",
       "    </tr>\n",
       "    <tr>\n",
       "      <th>4</th>\n",
       "      <td>26</td>\n",
       "      <td>9</td>\n",
       "      <td>1</td>\n",
       "      <td>1</td>\n",
       "      <td>0</td>\n",
       "      <td>889</td>\n",
       "      <td>1</td>\n",
       "      <td>0</td>\n",
       "      <td>0</td>\n",
       "      <td>3</td>\n",
       "      <td>3</td>\n",
       "      <td>902</td>\n",
       "      <td>1</td>\n",
       "      <td>-1</td>\n",
       "      <td>0</td>\n",
       "      <td>3</td>\n",
       "      <td>1</td>\n",
       "    </tr>\n",
       "  </tbody>\n",
       "</table>\n",
       "</div>"
      ],
      "text/plain": [
       "   age  job  marital  education  default  balance  housing  loan  contact  \\\n",
       "0   42    9        1          1        0        7        0     0        0   \n",
       "1   38    1        1          1        0      514        0     0        2   \n",
       "2   36    1        1          1        0      602        1     0        2   \n",
       "3   27    8        2          1        0       34        1     0        2   \n",
       "4   26    9        1          1        0      889        1     0        0   \n",
       "\n",
       "   day  month  duration  campaign  pdays  previous  poutcome  y  \n",
       "0   25      1       117         3     -1         0         3  0  \n",
       "1   18      6       185         1     -1         0         3  0  \n",
       "2   14      8       111         2     -1         0         3  0  \n",
       "3   28      8        10         2     -1         0         3  0  \n",
       "4    3      3       902         1     -1         0         3  1  "
      ]
     },
     "execution_count": 7,
     "metadata": {},
     "output_type": "execute_result"
    }
   ],
   "source": [
    "train.head()"
   ]
  },
  {
   "cell_type": "code",
   "execution_count": 8,
   "id": "64fa6944",
   "metadata": {
    "execution": {
     "iopub.execute_input": "2025-09-04T10:57:27.595983Z",
     "iopub.status.busy": "2025-09-04T10:57:27.595780Z",
     "iopub.status.idle": "2025-09-04T10:57:27.604622Z",
     "shell.execute_reply": "2025-09-04T10:57:27.603891Z"
    },
    "papermill": {
     "duration": 0.015844,
     "end_time": "2025-09-04T10:57:27.605736",
     "exception": false,
     "start_time": "2025-09-04T10:57:27.589892",
     "status": "completed"
    },
    "tags": []
   },
   "outputs": [
    {
     "data": {
      "text/html": [
       "<div>\n",
       "<style scoped>\n",
       "    .dataframe tbody tr th:only-of-type {\n",
       "        vertical-align: middle;\n",
       "    }\n",
       "\n",
       "    .dataframe tbody tr th {\n",
       "        vertical-align: top;\n",
       "    }\n",
       "\n",
       "    .dataframe thead th {\n",
       "        text-align: right;\n",
       "    }\n",
       "</style>\n",
       "<table border=\"1\" class=\"dataframe\">\n",
       "  <thead>\n",
       "    <tr style=\"text-align: right;\">\n",
       "      <th></th>\n",
       "      <th>age</th>\n",
       "      <th>job</th>\n",
       "      <th>marital</th>\n",
       "      <th>education</th>\n",
       "      <th>default</th>\n",
       "      <th>balance</th>\n",
       "      <th>housing</th>\n",
       "      <th>loan</th>\n",
       "      <th>contact</th>\n",
       "      <th>day</th>\n",
       "      <th>month</th>\n",
       "      <th>duration</th>\n",
       "      <th>campaign</th>\n",
       "      <th>pdays</th>\n",
       "      <th>previous</th>\n",
       "      <th>poutcome</th>\n",
       "    </tr>\n",
       "  </thead>\n",
       "  <tbody>\n",
       "    <tr>\n",
       "      <th>0</th>\n",
       "      <td>32</td>\n",
       "      <td>1</td>\n",
       "      <td>1</td>\n",
       "      <td>1</td>\n",
       "      <td>0</td>\n",
       "      <td>1397</td>\n",
       "      <td>1</td>\n",
       "      <td>0</td>\n",
       "      <td>2</td>\n",
       "      <td>21</td>\n",
       "      <td>8</td>\n",
       "      <td>224</td>\n",
       "      <td>1</td>\n",
       "      <td>-1</td>\n",
       "      <td>0</td>\n",
       "      <td>3</td>\n",
       "    </tr>\n",
       "    <tr>\n",
       "      <th>1</th>\n",
       "      <td>44</td>\n",
       "      <td>4</td>\n",
       "      <td>1</td>\n",
       "      <td>2</td>\n",
       "      <td>0</td>\n",
       "      <td>23</td>\n",
       "      <td>1</td>\n",
       "      <td>0</td>\n",
       "      <td>0</td>\n",
       "      <td>3</td>\n",
       "      <td>0</td>\n",
       "      <td>586</td>\n",
       "      <td>2</td>\n",
       "      <td>-1</td>\n",
       "      <td>0</td>\n",
       "      <td>3</td>\n",
       "    </tr>\n",
       "    <tr>\n",
       "      <th>2</th>\n",
       "      <td>36</td>\n",
       "      <td>6</td>\n",
       "      <td>1</td>\n",
       "      <td>0</td>\n",
       "      <td>0</td>\n",
       "      <td>46</td>\n",
       "      <td>1</td>\n",
       "      <td>1</td>\n",
       "      <td>0</td>\n",
       "      <td>13</td>\n",
       "      <td>8</td>\n",
       "      <td>111</td>\n",
       "      <td>2</td>\n",
       "      <td>-1</td>\n",
       "      <td>0</td>\n",
       "      <td>3</td>\n",
       "    </tr>\n",
       "    <tr>\n",
       "      <th>3</th>\n",
       "      <td>58</td>\n",
       "      <td>1</td>\n",
       "      <td>1</td>\n",
       "      <td>1</td>\n",
       "      <td>0</td>\n",
       "      <td>-1380</td>\n",
       "      <td>1</td>\n",
       "      <td>1</td>\n",
       "      <td>2</td>\n",
       "      <td>29</td>\n",
       "      <td>8</td>\n",
       "      <td>125</td>\n",
       "      <td>1</td>\n",
       "      <td>-1</td>\n",
       "      <td>0</td>\n",
       "      <td>3</td>\n",
       "    </tr>\n",
       "    <tr>\n",
       "      <th>4</th>\n",
       "      <td>28</td>\n",
       "      <td>9</td>\n",
       "      <td>2</td>\n",
       "      <td>1</td>\n",
       "      <td>0</td>\n",
       "      <td>1950</td>\n",
       "      <td>1</td>\n",
       "      <td>0</td>\n",
       "      <td>0</td>\n",
       "      <td>22</td>\n",
       "      <td>5</td>\n",
       "      <td>181</td>\n",
       "      <td>1</td>\n",
       "      <td>-1</td>\n",
       "      <td>0</td>\n",
       "      <td>3</td>\n",
       "    </tr>\n",
       "  </tbody>\n",
       "</table>\n",
       "</div>"
      ],
      "text/plain": [
       "   age  job  marital  education  default  balance  housing  loan  contact  \\\n",
       "0   32    1        1          1        0     1397        1     0        2   \n",
       "1   44    4        1          2        0       23        1     0        0   \n",
       "2   36    6        1          0        0       46        1     1        0   \n",
       "3   58    1        1          1        0    -1380        1     1        2   \n",
       "4   28    9        2          1        0     1950        1     0        0   \n",
       "\n",
       "   day  month  duration  campaign  pdays  previous  poutcome  \n",
       "0   21      8       224         1     -1         0         3  \n",
       "1    3      0       586         2     -1         0         3  \n",
       "2   13      8       111         2     -1         0         3  \n",
       "3   29      8       125         1     -1         0         3  \n",
       "4   22      5       181         1     -1         0         3  "
      ]
     },
     "execution_count": 8,
     "metadata": {},
     "output_type": "execute_result"
    }
   ],
   "source": [
    "test.head()"
   ]
  },
  {
   "cell_type": "markdown",
   "id": "d6125103",
   "metadata": {
    "papermill": {
     "duration": 0.005456,
     "end_time": "2025-09-04T10:57:27.616782",
     "exception": false,
     "start_time": "2025-09-04T10:57:27.611326",
     "status": "completed"
    },
    "tags": []
   },
   "source": [
    "# Standartization of Numerical Features"
   ]
  },
  {
   "cell_type": "markdown",
   "id": "e77a4629",
   "metadata": {
    "papermill": {
     "duration": 0.005475,
     "end_time": "2025-09-04T10:57:27.628173",
     "exception": false,
     "start_time": "2025-09-04T10:57:27.622698",
     "status": "completed"
    },
    "tags": []
   },
   "source": [
    "Basic Standartization of numerical features by using StandardScaler"
   ]
  },
  {
   "cell_type": "code",
   "execution_count": 9,
   "id": "9db61d9b",
   "metadata": {
    "execution": {
     "iopub.execute_input": "2025-09-04T10:57:27.640646Z",
     "iopub.status.busy": "2025-09-04T10:57:27.640161Z",
     "iopub.status.idle": "2025-09-04T10:57:28.160423Z",
     "shell.execute_reply": "2025-09-04T10:57:28.159644Z"
    },
    "papermill": {
     "duration": 0.52758,
     "end_time": "2025-09-04T10:57:28.161675",
     "exception": false,
     "start_time": "2025-09-04T10:57:27.634095",
     "status": "completed"
    },
    "tags": []
   },
   "outputs": [
    {
     "data": {
      "text/html": [
       "<div>\n",
       "<style scoped>\n",
       "    .dataframe tbody tr th:only-of-type {\n",
       "        vertical-align: middle;\n",
       "    }\n",
       "\n",
       "    .dataframe tbody tr th {\n",
       "        vertical-align: top;\n",
       "    }\n",
       "\n",
       "    .dataframe thead th {\n",
       "        text-align: right;\n",
       "    }\n",
       "</style>\n",
       "<table border=\"1\" class=\"dataframe\">\n",
       "  <thead>\n",
       "    <tr style=\"text-align: right;\">\n",
       "      <th></th>\n",
       "      <th>age</th>\n",
       "      <th>job</th>\n",
       "      <th>marital</th>\n",
       "      <th>education</th>\n",
       "      <th>default</th>\n",
       "      <th>balance</th>\n",
       "      <th>housing</th>\n",
       "      <th>loan</th>\n",
       "      <th>contact</th>\n",
       "      <th>day</th>\n",
       "      <th>month</th>\n",
       "      <th>duration</th>\n",
       "      <th>campaign</th>\n",
       "      <th>pdays</th>\n",
       "      <th>previous</th>\n",
       "      <th>poutcome</th>\n",
       "    </tr>\n",
       "  </thead>\n",
       "  <tbody>\n",
       "    <tr>\n",
       "      <th>0</th>\n",
       "      <td>-0.886004</td>\n",
       "      <td>-1.019820</td>\n",
       "      <td>-0.276221</td>\n",
       "      <td>-0.325829</td>\n",
       "      <td>-0.130035</td>\n",
       "      <td>0.072797</td>\n",
       "      <td>0.911617</td>\n",
       "      <td>-0.403761</td>\n",
       "      <td>1.464280</td>\n",
       "      <td>0.591383</td>\n",
       "      <td>0.849289</td>\n",
       "      <td>-0.115482</td>\n",
       "      <td>-0.580719</td>\n",
       "      <td>-0.302669</td>\n",
       "      <td>-0.219366</td>\n",
       "      <td>0.318283</td>\n",
       "    </tr>\n",
       "    <tr>\n",
       "      <th>1</th>\n",
       "      <td>0.304284</td>\n",
       "      <td>-0.099044</td>\n",
       "      <td>-0.276221</td>\n",
       "      <td>1.089637</td>\n",
       "      <td>-0.130035</td>\n",
       "      <td>-0.428386</td>\n",
       "      <td>0.911617</td>\n",
       "      <td>-0.403761</td>\n",
       "      <td>-0.717526</td>\n",
       "      <td>-1.588192</td>\n",
       "      <td>-1.793005</td>\n",
       "      <td>1.218324</td>\n",
       "      <td>-0.211668</td>\n",
       "      <td>-0.302669</td>\n",
       "      <td>-0.219366</td>\n",
       "      <td>0.318283</td>\n",
       "    </tr>\n",
       "    <tr>\n",
       "      <th>2</th>\n",
       "      <td>-0.489241</td>\n",
       "      <td>0.514807</td>\n",
       "      <td>-0.276221</td>\n",
       "      <td>-1.741295</td>\n",
       "      <td>-0.130035</td>\n",
       "      <td>-0.419996</td>\n",
       "      <td>0.911617</td>\n",
       "      <td>2.476710</td>\n",
       "      <td>-0.717526</td>\n",
       "      <td>-0.377317</td>\n",
       "      <td>0.849289</td>\n",
       "      <td>-0.531836</td>\n",
       "      <td>-0.211668</td>\n",
       "      <td>-0.302669</td>\n",
       "      <td>-0.219366</td>\n",
       "      <td>0.318283</td>\n",
       "    </tr>\n",
       "    <tr>\n",
       "      <th>3</th>\n",
       "      <td>1.692954</td>\n",
       "      <td>-1.019820</td>\n",
       "      <td>-0.276221</td>\n",
       "      <td>-0.325829</td>\n",
       "      <td>-0.130035</td>\n",
       "      <td>-0.940147</td>\n",
       "      <td>0.911617</td>\n",
       "      <td>2.476710</td>\n",
       "      <td>1.464280</td>\n",
       "      <td>1.560083</td>\n",
       "      <td>0.849289</td>\n",
       "      <td>-0.480252</td>\n",
       "      <td>-0.580719</td>\n",
       "      <td>-0.302669</td>\n",
       "      <td>-0.219366</td>\n",
       "      <td>0.318283</td>\n",
       "    </tr>\n",
       "    <tr>\n",
       "      <th>4</th>\n",
       "      <td>-1.282767</td>\n",
       "      <td>1.435583</td>\n",
       "      <td>1.456830</td>\n",
       "      <td>-0.325829</td>\n",
       "      <td>-0.130035</td>\n",
       "      <td>0.274510</td>\n",
       "      <td>0.911617</td>\n",
       "      <td>-0.403761</td>\n",
       "      <td>-0.717526</td>\n",
       "      <td>0.712470</td>\n",
       "      <td>-0.141571</td>\n",
       "      <td>-0.273918</td>\n",
       "      <td>-0.580719</td>\n",
       "      <td>-0.302669</td>\n",
       "      <td>-0.219366</td>\n",
       "      <td>0.318283</td>\n",
       "    </tr>\n",
       "  </tbody>\n",
       "</table>\n",
       "</div>"
      ],
      "text/plain": [
       "        age       job   marital  education   default   balance   housing  \\\n",
       "0 -0.886004 -1.019820 -0.276221  -0.325829 -0.130035  0.072797  0.911617   \n",
       "1  0.304284 -0.099044 -0.276221   1.089637 -0.130035 -0.428386  0.911617   \n",
       "2 -0.489241  0.514807 -0.276221  -1.741295 -0.130035 -0.419996  0.911617   \n",
       "3  1.692954 -1.019820 -0.276221  -0.325829 -0.130035 -0.940147  0.911617   \n",
       "4 -1.282767  1.435583  1.456830  -0.325829 -0.130035  0.274510  0.911617   \n",
       "\n",
       "       loan   contact       day     month  duration  campaign     pdays  \\\n",
       "0 -0.403761  1.464280  0.591383  0.849289 -0.115482 -0.580719 -0.302669   \n",
       "1 -0.403761 -0.717526 -1.588192 -1.793005  1.218324 -0.211668 -0.302669   \n",
       "2  2.476710 -0.717526 -0.377317  0.849289 -0.531836 -0.211668 -0.302669   \n",
       "3  2.476710  1.464280  1.560083  0.849289 -0.480252 -0.580719 -0.302669   \n",
       "4 -0.403761 -0.717526  0.712470 -0.141571 -0.273918 -0.580719 -0.302669   \n",
       "\n",
       "   previous  poutcome  \n",
       "0 -0.219366  0.318283  \n",
       "1 -0.219366  0.318283  \n",
       "2 -0.219366  0.318283  \n",
       "3 -0.219366  0.318283  \n",
       "4 -0.219366  0.318283  "
      ]
     },
     "execution_count": 9,
     "metadata": {},
     "output_type": "execute_result"
    }
   ],
   "source": [
    "SS = StandardScaler()\n",
    "y = train[\"y\"]\n",
    "train  = train.drop(columns = \"y\")\n",
    "columns = train.columns\n",
    "trains= SS.fit_transform(train)\n",
    "tests = SS.fit_transform(test)\n",
    "train = pd.DataFrame(trains , columns = columns)\n",
    "test =  pd.DataFrame(tests , columns  = columns)\n",
    "train[\"y\"]  = y.reset_index(drop = True) \n",
    "train.head()\n",
    "test.head()"
   ]
  },
  {
   "cell_type": "markdown",
   "id": "a6866b02",
   "metadata": {
    "papermill": {
     "duration": 0.006172,
     "end_time": "2025-09-04T10:57:28.174424",
     "exception": false,
     "start_time": "2025-09-04T10:57:28.168252",
     "status": "completed"
    },
    "tags": []
   },
   "source": [
    "# Target"
   ]
  },
  {
   "cell_type": "markdown",
   "id": "566dd171",
   "metadata": {
    "papermill": {
     "duration": 0.005776,
     "end_time": "2025-09-04T10:57:28.186133",
     "exception": false,
     "start_time": "2025-09-04T10:57:28.180357",
     "status": "completed"
    },
    "tags": []
   },
   "source": [
    "We need to seperate our dataset into target and features."
   ]
  },
  {
   "cell_type": "code",
   "execution_count": 10,
   "id": "8b6228b7",
   "metadata": {
    "execution": {
     "iopub.execute_input": "2025-09-04T10:57:28.199158Z",
     "iopub.status.busy": "2025-09-04T10:57:28.198956Z",
     "iopub.status.idle": "2025-09-04T10:57:28.232880Z",
     "shell.execute_reply": "2025-09-04T10:57:28.232324Z"
    },
    "papermill": {
     "duration": 0.041866,
     "end_time": "2025-09-04T10:57:28.234172",
     "exception": false,
     "start_time": "2025-09-04T10:57:28.192306",
     "status": "completed"
    },
    "tags": []
   },
   "outputs": [],
   "source": [
    "y = train[\"y\"]\n",
    "x = train.drop(columns = \"y\")\n"
   ]
  },
  {
   "cell_type": "markdown",
   "id": "020bb9e0",
   "metadata": {
    "papermill": {
     "duration": 0.048685,
     "end_time": "2025-09-04T10:57:28.289147",
     "exception": false,
     "start_time": "2025-09-04T10:57:28.240462",
     "status": "completed"
    },
    "tags": []
   },
   "source": [
    "# Splitting"
   ]
  },
  {
   "cell_type": "code",
   "execution_count": 11,
   "id": "5896bf06",
   "metadata": {
    "execution": {
     "iopub.execute_input": "2025-09-04T10:57:28.302931Z",
     "iopub.status.busy": "2025-09-04T10:57:28.302373Z",
     "iopub.status.idle": "2025-09-04T10:57:28.667628Z",
     "shell.execute_reply": "2025-09-04T10:57:28.667032Z"
    },
    "papermill": {
     "duration": 0.373282,
     "end_time": "2025-09-04T10:57:28.669020",
     "exception": false,
     "start_time": "2025-09-04T10:57:28.295738",
     "status": "completed"
    },
    "tags": []
   },
   "outputs": [],
   "source": [
    "X_train,X_test,Y_train,Y_test = train_test_split(x,y,test_size = 0.2,random_state = 8,stratify = y)\n"
   ]
  },
  {
   "cell_type": "markdown",
   "id": "84ffee2a",
   "metadata": {
    "papermill": {
     "duration": 0.005874,
     "end_time": "2025-09-04T10:57:28.681212",
     "exception": false,
     "start_time": "2025-09-04T10:57:28.675338",
     "status": "completed"
    },
    "tags": []
   },
   "source": [
    "#  MODELS"
   ]
  },
  {
   "cell_type": "markdown",
   "id": "13ed64fd",
   "metadata": {
    "papermill": {
     "duration": 0.00573,
     "end_time": "2025-09-04T10:57:28.692806",
     "exception": false,
     "start_time": "2025-09-04T10:57:28.687076",
     "status": "completed"
    },
    "tags": []
   },
   "source": [
    "We will use three different models to create our main model which is VotingClassifier which is basically use our 3 models as voter to our results.\n"
   ]
  },
  {
   "cell_type": "markdown",
   "id": "d072429f",
   "metadata": {
    "papermill": {
     "duration": 0.005732,
     "end_time": "2025-09-04T10:57:28.704338",
     "exception": false,
     "start_time": "2025-09-04T10:57:28.698606",
     "status": "completed"
    },
    "tags": []
   },
   "source": [
    "# CatBoost"
   ]
  },
  {
   "cell_type": "markdown",
   "id": "7ed339a9",
   "metadata": {
    "papermill": {
     "duration": 0.005692,
     "end_time": "2025-09-04T10:57:28.716227",
     "exception": false,
     "start_time": "2025-09-04T10:57:28.710535",
     "status": "completed"
    },
    "tags": []
   },
   "source": [
    "## Optuna Optimization for hyperparameters"
   ]
  },
  {
   "cell_type": "code",
   "execution_count": 12,
   "id": "ee200fab",
   "metadata": {
    "execution": {
     "iopub.execute_input": "2025-09-04T10:57:28.729208Z",
     "iopub.status.busy": "2025-09-04T10:57:28.728711Z",
     "iopub.status.idle": "2025-09-04T10:58:43.918132Z",
     "shell.execute_reply": "2025-09-04T10:58:43.917494Z"
    },
    "papermill": {
     "duration": 75.197664,
     "end_time": "2025-09-04T10:58:43.919722",
     "exception": false,
     "start_time": "2025-09-04T10:57:28.722058",
     "status": "completed"
    },
    "tags": []
   },
   "outputs": [
    {
     "name": "stderr",
     "output_type": "stream",
     "text": [
      "[I 2025-09-04 10:57:28,732] A new study created in memory with name: no-name-2f85b6aa-a22d-4c99-9cdc-7912dc120886\n"
     ]
    },
    {
     "name": "stdout",
     "output_type": "stream",
     "text": [
      "0:\tlearn: 0.5944167\ttotal: 498ms\tremaining: 7m 6s\n",
      "150:\tlearn: 0.1630872\ttotal: 1.94s\tremaining: 9.09s\n",
      "300:\tlearn: 0.1560433\ttotal: 3.3s\tremaining: 6.12s\n",
      "450:\tlearn: 0.1528178\ttotal: 4.6s\tremaining: 4.16s\n",
      "600:\tlearn: 0.1507101\ttotal: 5.9s\tremaining: 2.52s\n",
      "750:\tlearn: 0.1490651\ttotal: 7.19s\tremaining: 1.02s\n",
      "857:\tlearn: 0.1480694\ttotal: 8.11s\tremaining: 0us\n"
     ]
    },
    {
     "name": "stderr",
     "output_type": "stream",
     "text": [
      "[I 2025-09-04 10:57:38,240] Trial 0 finished with value: 0.8156773888792441 and parameters: {'depth': 6, 'learning_rate': 0.059499265937313285, 'iterations': 858, 'l2_leaf_reg': 0.06948542855156382, 'bagging_temperature': 0.5506129606132317, 'random_strength': 0.8768154824742606, 'border_count': 71}. Best is trial 0 with value: 0.8156773888792441.\n"
     ]
    },
    {
     "name": "stdout",
     "output_type": "stream",
     "text": [
      "0:\tlearn: 0.3222036\ttotal: 27.4ms\tremaining: 5.74s\n",
      "150:\tlearn: 0.1250224\ttotal: 3.65s\tremaining: 1.43s\n",
      "209:\tlearn: 0.1162529\ttotal: 5.13s\tremaining: 0us\n"
     ]
    },
    {
     "name": "stderr",
     "output_type": "stream",
     "text": [
      "[I 2025-09-04 10:57:44,281] Trial 1 finished with value: 0.8199923391387067 and parameters: {'depth': 10, 'learning_rate': 0.29959744511395037, 'iterations': 210, 'l2_leaf_reg': 0.1668937273858478, 'bagging_temperature': 0.1666761999424462, 'random_strength': 0.00020309471850526916, 'border_count': 53}. Best is trial 1 with value: 0.8199923391387067.\n"
     ]
    },
    {
     "name": "stdout",
     "output_type": "stream",
     "text": [
      "0:\tlearn: 0.5247504\ttotal: 51.9ms\tremaining: 31.4s\n",
      "150:\tlearn: 0.1468672\ttotal: 2.64s\tremaining: 7.95s\n",
      "300:\tlearn: 0.1382170\ttotal: 5.24s\tremaining: 5.29s\n",
      "450:\tlearn: 0.1311938\ttotal: 7.85s\tremaining: 2.68s\n",
      "600:\tlearn: 0.1252689\ttotal: 10.6s\tremaining: 70.8ms\n",
      "604:\tlearn: 0.1250925\ttotal: 10.7s\tremaining: 0us\n"
     ]
    },
    {
     "name": "stderr",
     "output_type": "stream",
     "text": [
      "[I 2025-09-04 10:57:56,027] Trial 2 finished with value: 0.8250668351262015 and parameters: {'depth': 9, 'learning_rate': 0.10141987228316374, 'iterations': 605, 'l2_leaf_reg': 0.06773603819885508, 'bagging_temperature': 0.2854659076647994, 'random_strength': 0.00021366045902494204, 'border_count': 249}. Best is trial 2 with value: 0.8250668351262015.\n"
     ]
    },
    {
     "name": "stdout",
     "output_type": "stream",
     "text": [
      "0:\tlearn: 0.6247948\ttotal: 13.1ms\tremaining: 11.8s\n",
      "150:\tlearn: 0.1648675\ttotal: 1.64s\tremaining: 8.2s\n",
      "300:\tlearn: 0.1567292\ttotal: 3.27s\tremaining: 6.55s\n",
      "450:\tlearn: 0.1533099\ttotal: 4.89s\tremaining: 4.92s\n",
      "600:\tlearn: 0.1510521\ttotal: 6.57s\tremaining: 3.31s\n",
      "750:\tlearn: 0.1492193\ttotal: 8.26s\tremaining: 1.68s\n",
      "900:\tlearn: 0.1477595\ttotal: 9.83s\tremaining: 32.7ms\n",
      "903:\tlearn: 0.1477364\ttotal: 9.86s\tremaining: 0us\n"
     ]
    },
    {
     "name": "stderr",
     "output_type": "stream",
     "text": [
      "[I 2025-09-04 10:58:06,753] Trial 3 finished with value: 0.815249421346867 and parameters: {'depth': 7, 'learning_rate': 0.03958543563363598, 'iterations': 904, 'l2_leaf_reg': 0.5111324162315959, 'bagging_temperature': 0.8129520199906884, 'random_strength': 0.22967539798376918, 'border_count': 74}. Best is trial 2 with value: 0.8250668351262015.\n"
     ]
    },
    {
     "name": "stdout",
     "output_type": "stream",
     "text": [
      "0:\tlearn: 0.6741335\ttotal: 7.72ms\tremaining: 1.95s\n",
      "150:\tlearn: 0.2050859\ttotal: 1.01s\tremaining: 685ms\n",
      "252:\tlearn: 0.1899851\ttotal: 1.71s\tremaining: 0us\n"
     ]
    },
    {
     "name": "stderr",
     "output_type": "stream",
     "text": [
      "[I 2025-09-04 10:58:09,257] Trial 4 finished with value: 0.7196080793993874 and parameters: {'depth': 4, 'learning_rate': 0.01186970092459778, 'iterations': 253, 'l2_leaf_reg': 0.16957307644549158, 'bagging_temperature': 0.2995781911328683, 'random_strength': 0.7680769009780578, 'border_count': 230}. Best is trial 2 with value: 0.8250668351262015.\n"
     ]
    },
    {
     "name": "stdout",
     "output_type": "stream",
     "text": [
      "0:\tlearn: 0.6661938\ttotal: 9.27ms\tremaining: 10.7s\n",
      "150:\tlearn: 0.1913781\ttotal: 1.14s\tremaining: 7.56s\n",
      "300:\tlearn: 0.1778379\ttotal: 2.28s\tremaining: 6.46s\n",
      "450:\tlearn: 0.1706340\ttotal: 3.45s\tremaining: 5.39s\n",
      "600:\tlearn: 0.1665220\ttotal: 4.61s\tremaining: 4.25s\n",
      "750:\tlearn: 0.1635604\ttotal: 5.76s\tremaining: 3.1s\n",
      "900:\tlearn: 0.1616725\ttotal: 6.92s\tremaining: 1.95s\n",
      "1050:\tlearn: 0.1600988\ttotal: 8.14s\tremaining: 805ms\n",
      "1154:\tlearn: 0.1591532\ttotal: 9.01s\tremaining: 0us\n"
     ]
    },
    {
     "name": "stderr",
     "output_type": "stream",
     "text": [
      "[I 2025-09-04 10:58:19,184] Trial 5 finished with value: 0.8008792699665165 and parameters: {'depth': 5, 'learning_rate': 0.016587878885466187, 'iterations': 1155, 'l2_leaf_reg': 2.654885758504306, 'bagging_temperature': 0.923154779810664, 'random_strength': 2.029245611565738e-05, 'border_count': 70}. Best is trial 2 with value: 0.8250668351262015.\n"
     ]
    },
    {
     "name": "stdout",
     "output_type": "stream",
     "text": [
      "0:\tlearn: 0.6627435\ttotal: 8.59ms\tremaining: 4.01s\n",
      "150:\tlearn: 0.1890269\ttotal: 1.08s\tremaining: 2.26s\n",
      "300:\tlearn: 0.1748056\ttotal: 2.21s\tremaining: 1.23s\n",
      "450:\tlearn: 0.1681359\ttotal: 3.4s\tremaining: 128ms\n",
      "467:\tlearn: 0.1675845\ttotal: 3.54s\tremaining: 0us\n"
     ]
    },
    {
     "name": "stderr",
     "output_type": "stream",
     "text": [
      "[I 2025-09-04 10:58:23,563] Trial 6 finished with value: 0.7848682453022353 and parameters: {'depth': 5, 'learning_rate': 0.018771634040082804, 'iterations': 468, 'l2_leaf_reg': 2.0923449873603452, 'bagging_temperature': 0.06780317278498305, 'random_strength': 0.05938041178888945, 'border_count': 222}. Best is trial 2 with value: 0.8250668351262015.\n"
     ]
    },
    {
     "name": "stdout",
     "output_type": "stream",
     "text": [
      "0:\tlearn: 0.6201980\ttotal: 9.8ms\tremaining: 4.76s\n",
      "150:\tlearn: 0.1708564\ttotal: 1.16s\tremaining: 2.58s\n",
      "300:\tlearn: 0.1615624\ttotal: 2.31s\tremaining: 1.42s\n",
      "450:\tlearn: 0.1569700\ttotal: 3.44s\tremaining: 274ms\n",
      "486:\tlearn: 0.1562935\ttotal: 3.71s\tremaining: 0us\n"
     ]
    },
    {
     "name": "stderr",
     "output_type": "stream",
     "text": [
      "[I 2025-09-04 10:58:28,100] Trial 7 finished with value: 0.8028868141570709 and parameters: {'depth': 5, 'learning_rate': 0.04655832305553515, 'iterations': 487, 'l2_leaf_reg': 0.013009003539584401, 'bagging_temperature': 0.17335245949692457, 'random_strength': 7.284444049767617e-07, 'border_count': 171}. Best is trial 2 with value: 0.8250668351262015.\n"
     ]
    },
    {
     "name": "stdout",
     "output_type": "stream",
     "text": [
      "0:\tlearn: 0.4074201\ttotal: 9.56ms\tremaining: 4.82s\n",
      "150:\tlearn: 0.1527783\ttotal: 1.14s\tremaining: 2.68s\n",
      "300:\tlearn: 0.1477955\ttotal: 2.27s\tremaining: 1.54s\n",
      "450:\tlearn: 0.1445502\ttotal: 3.42s\tremaining: 409ms\n",
      "504:\tlearn: 0.1435552\ttotal: 3.82s\tremaining: 0us\n"
     ]
    },
    {
     "name": "stderr",
     "output_type": "stream",
     "text": [
      "[I 2025-09-04 10:58:32,773] Trial 8 finished with value: 0.8204610940092909 and parameters: {'depth': 5, 'learning_rate': 0.23373305773948239, 'iterations': 505, 'l2_leaf_reg': 0.02100287333374101, 'bagging_temperature': 0.47844908571202727, 'random_strength': 2.6304924031610712e-05, 'border_count': 248}. Best is trial 2 with value: 0.8250668351262015.\n"
     ]
    },
    {
     "name": "stdout",
     "output_type": "stream",
     "text": [
      "0:\tlearn: 0.6582158\ttotal: 18.5ms\tremaining: 10.8s\n",
      "150:\tlearn: 0.1724127\ttotal: 2.64s\tremaining: 7.61s\n",
      "300:\tlearn: 0.1607516\ttotal: 5.24s\tremaining: 4.96s\n",
      "450:\tlearn: 0.1552787\ttotal: 7.8s\tremaining: 2.34s\n",
      "585:\tlearn: 0.1523350\ttotal: 10.2s\tremaining: 0us\n"
     ]
    },
    {
     "name": "stderr",
     "output_type": "stream",
     "text": [
      "[I 2025-09-04 10:58:43,914] Trial 9 finished with value: 0.8110544985310668 and parameters: {'depth': 9, 'learning_rate': 0.018675592073336668, 'iterations': 586, 'l2_leaf_reg': 0.7597788892388733, 'bagging_temperature': 0.0016027160584871636, 'random_strength': 6.272474951931787e-05, 'border_count': 40}. Best is trial 2 with value: 0.8250668351262015.\n"
     ]
    }
   ],
   "source": [
    "from catboost import CatBoostClassifier\n",
    "import optuna\n",
    "def objective (trial):\n",
    "    params = {\n",
    "        'depth' : trial.suggest_int('depth',3,10),\n",
    "        'learning_rate' : trial.suggest_float('learning_rate',0.005,0.3,log = True),\n",
    "        'iterations' : trial.suggest_int('iterations',150,1200),\n",
    "        'l2_leaf_reg' : trial.suggest_float('l2_leaf_reg',0.01,10.0,log= True),\n",
    "        'bagging_temperature': trial.suggest_float('bagging_temperature',0.0,1.0),\n",
    "        'random_strength' : trial.suggest_float('random_strength',1e-9,10.0,log =True),\n",
    "        'border_count' : trial.suggest_int('border_count',32,255),\n",
    "        'random_state' : 98,\n",
    "        'verbose' : 150,\n",
    "        'task_type' :  'GPU'\n",
    "    }\n",
    "    model  = CatBoostClassifier(**params)\n",
    "    model.fit(X_train,Y_train)\n",
    "    pre = model.predict(X_test)\n",
    "    return roc_auc_score(Y_test,pre)\n",
    "    \n",
    "study = optuna.create_study(direction = 'maximize')\n",
    "study.optimize(objective,n_trials= 10)"
   ]
  },
  {
   "cell_type": "code",
   "execution_count": 13,
   "id": "32be5e0a",
   "metadata": {
    "execution": {
     "iopub.execute_input": "2025-09-04T10:58:43.950989Z",
     "iopub.status.busy": "2025-09-04T10:58:43.950742Z",
     "iopub.status.idle": "2025-09-04T10:58:55.227953Z",
     "shell.execute_reply": "2025-09-04T10:58:55.227258Z"
    },
    "papermill": {
     "duration": 11.294124,
     "end_time": "2025-09-04T10:58:55.229389",
     "exception": false,
     "start_time": "2025-09-04T10:58:43.935265",
     "status": "completed"
    },
    "tags": []
   },
   "outputs": [
    {
     "name": "stdout",
     "output_type": "stream",
     "text": [
      "0:\tlearn: 0.5247504\ttotal: 19.6ms\tremaining: 11.8s\n",
      "150:\tlearn: 0.1468671\ttotal: 2.65s\tremaining: 7.98s\n",
      "300:\tlearn: 0.1382168\ttotal: 5.25s\tremaining: 5.3s\n",
      "450:\tlearn: 0.1311935\ttotal: 7.87s\tremaining: 2.69s\n",
      "600:\tlearn: 0.1253064\ttotal: 10.5s\tremaining: 70ms\n",
      "604:\tlearn: 0.1251546\ttotal: 10.6s\tremaining: 0us\n"
     ]
    },
    {
     "data": {
      "text/plain": [
       "<catboost.core.CatBoostClassifier at 0x7f641d995250>"
      ]
     },
     "execution_count": 13,
     "metadata": {},
     "output_type": "execute_result"
    }
   ],
   "source": [
    "from catboost import CatBoostClassifier\n",
    "cat_model = CatBoostClassifier(**study.best_params,verbose = 150,random_state = 98,task_type = 'GPU')\n",
    "cat_model.fit(X_train,Y_train)"
   ]
  },
  {
   "cell_type": "code",
   "execution_count": 14,
   "id": "752b055e",
   "metadata": {
    "execution": {
     "iopub.execute_input": "2025-09-04T10:58:55.260622Z",
     "iopub.status.busy": "2025-09-04T10:58:55.260357Z",
     "iopub.status.idle": "2025-09-04T10:58:55.576513Z",
     "shell.execute_reply": "2025-09-04T10:58:55.575994Z"
    },
    "papermill": {
     "duration": 0.33321,
     "end_time": "2025-09-04T10:58:55.578020",
     "exception": false,
     "start_time": "2025-09-04T10:58:55.244810",
     "status": "completed"
    },
    "tags": []
   },
   "outputs": [
    {
     "name": "stdout",
     "output_type": "stream",
     "text": [
      "my auc score is 0.9663561385121617\n"
     ]
    }
   ],
   "source": [
    "predictions3 = cat_model.predict_proba(X_test)\n",
    "print(\"my auc score is\",roc_auc_score(Y_test,predictions3[:,1]))\n"
   ]
  },
  {
   "cell_type": "markdown",
   "id": "f7209b10",
   "metadata": {
    "papermill": {
     "duration": 0.00852,
     "end_time": "2025-09-04T10:58:55.597970",
     "exception": false,
     "start_time": "2025-09-04T10:58:55.589450",
     "status": "completed"
    },
    "tags": []
   },
   "source": [
    "# XGBoost Classifier"
   ]
  },
  {
   "cell_type": "markdown",
   "id": "2726c0e7",
   "metadata": {
    "papermill": {
     "duration": 0.008451,
     "end_time": "2025-09-04T10:58:55.615155",
     "exception": false,
     "start_time": "2025-09-04T10:58:55.606704",
     "status": "completed"
    },
    "tags": []
   },
   "source": [
    "## Optuna Optimization for hyperparameters"
   ]
  },
  {
   "cell_type": "code",
   "execution_count": 15,
   "id": "88b1c7a1",
   "metadata": {
    "execution": {
     "iopub.execute_input": "2025-09-04T10:58:55.634046Z",
     "iopub.status.busy": "2025-09-04T10:58:55.633416Z",
     "iopub.status.idle": "2025-09-04T11:02:27.089850Z",
     "shell.execute_reply": "2025-09-04T11:02:27.088994Z"
    },
    "papermill": {
     "duration": 211.467426,
     "end_time": "2025-09-04T11:02:27.091335",
     "exception": false,
     "start_time": "2025-09-04T10:58:55.623909",
     "status": "completed"
    },
    "tags": []
   },
   "outputs": [
    {
     "name": "stderr",
     "output_type": "stream",
     "text": [
      "[I 2025-09-04 10:58:55,636] A new study created in memory with name: no-name-3d4c7d5f-040f-4db6-a131-cd3572077a87\n",
      "/usr/local/lib/python3.11/dist-packages/xgboost/core.py:160: UserWarning: [10:59:06] WARNING: /workspace/src/common/error_msg.cc:58: Falling back to prediction using DMatrix due to mismatched devices. This might lead to higher memory usage and slower performance. XGBoost is running on: cuda:0, while the input data is on: cpu.\n",
      "Potential solutions:\n",
      "- Use a data structure that matches the device ordinal in the booster.\n",
      "- Set the device for booster before call to inplace_predict.\n",
      "\n",
      "This warning will only be shown once.\n",
      "\n",
      "  warnings.warn(smsg, UserWarning)\n",
      "[I 2025-09-04 10:59:06,207] Trial 0 finished with value: 0.8073315419300028 and parameters: {'max_depth': 8, 'lr': 0.005665573084662816, 'ss': 0.7171667749642712, 'n': 919, 'cs': 0.7922225990592382, 'g': 0.13992424393120761, 'm': 1}. Best is trial 0 with value: 0.8073315419300028.\n",
      "[I 2025-09-04 10:59:16,831] Trial 1 finished with value: 0.8162709882097187 and parameters: {'max_depth': 9, 'lr': 0.008415283928864365, 'ss': 0.5152700221442266, 'n': 877, 'cs': 0.6485455393622757, 'g': 0.11487654520177232, 'm': 9}. Best is trial 1 with value: 0.8162709882097187.\n",
      "[I 2025-09-04 10:59:21,178] Trial 2 finished with value: 0.7449565894552571 and parameters: {'max_depth': 3, 'lr': 0.007243255279446513, 'ss': 0.646223828076935, 'n': 818, 'cs': 0.856602146846511, 'g': 0.34904856089077485, 'm': 2}. Best is trial 1 with value: 0.8162709882097187.\n",
      "[I 2025-09-04 10:59:33,004] Trial 3 finished with value: 0.8242765667292289 and parameters: {'max_depth': 9, 'lr': 0.009864216157106875, 'ss': 0.8029082924014517, 'n': 1011, 'cs': 0.9083114487504101, 'g': 0.1615178958984433, 'm': 10}. Best is trial 3 with value: 0.8242765667292289.\n",
      "[I 2025-09-04 10:59:38,521] Trial 4 finished with value: 0.763429925443581 and parameters: {'max_depth': 4, 'lr': 0.00553988392359697, 'ss': 0.7488179896883543, 'n': 941, 'cs': 0.8312853354973627, 'g': 0.2643554544321715, 'm': 9}. Best is trial 3 with value: 0.8242765667292289.\n",
      "[I 2025-09-04 10:59:46,133] Trial 5 finished with value: 0.807583846507609 and parameters: {'max_depth': 8, 'lr': 0.009829896666226494, 'ss': 0.773022330763185, 'n': 716, 'cs': 0.5342809102106971, 'g': 0.03048206700198547, 'm': 10}. Best is trial 3 with value: 0.8242765667292289.\n",
      "[I 2025-09-04 10:59:59,894] Trial 6 finished with value: 0.8236990241195136 and parameters: {'max_depth': 10, 'lr': 0.008764671294600025, 'ss': 0.9456184310797465, 'n': 933, 'cs': 0.7019806003374027, 'g': 0.28093212643603405, 'm': 10}. Best is trial 3 with value: 0.8242765667292289.\n",
      "[I 2025-09-04 11:00:07,693] Trial 7 finished with value: 0.7928631471287637 and parameters: {'max_depth': 7, 'lr': 0.0055120595752172034, 'ss': 0.9326044407524399, 'n': 873, 'cs': 0.6369985988427207, 'g': 0.06310640194284534, 'm': 8}. Best is trial 3 with value: 0.8242765667292289.\n",
      "[I 2025-09-04 11:00:11,413] Trial 8 finished with value: 0.7289562913339391 and parameters: {'max_depth': 3, 'lr': 0.006856512360720695, 'ss': 0.6878625979945359, 'n': 686, 'cs': 0.9302763309554869, 'g': 0.34229097307987344, 'm': 1}. Best is trial 3 with value: 0.8242765667292289.\n",
      "[I 2025-09-04 11:00:18,565] Trial 9 finished with value: 0.8032141048354551 and parameters: {'max_depth': 6, 'lr': 0.00752348806791432, 'ss': 0.6634292362809201, 'n': 955, 'cs': 0.824398549957169, 'g': 0.16794303242031594, 'm': 6}. Best is trial 3 with value: 0.8242765667292289.\n",
      "[I 2025-09-04 11:00:34,944] Trial 10 finished with value: 0.8272689957369788 and parameters: {'max_depth': 10, 'lr': 0.009980492479020114, 'ss': 0.882055199096624, 'n': 1142, 'cs': 0.993502729171911, 'g': 0.4851934215797831, 'm': 4}. Best is trial 10 with value: 0.8272689957369788.\n",
      "[I 2025-09-04 11:00:51,413] Trial 11 finished with value: 0.8274131082617808 and parameters: {'max_depth': 10, 'lr': 0.009909755807489594, 'ss': 0.8515327180684273, 'n': 1145, 'cs': 0.9899968074755683, 'g': 0.47705776775238806, 'm': 4}. Best is trial 11 with value: 0.8274131082617808.\n",
      "[I 2025-09-04 11:01:08,742] Trial 12 finished with value: 0.8277847285593719 and parameters: {'max_depth': 10, 'lr': 0.009169841356881687, 'ss': 0.8651849256230839, 'n': 1199, 'cs': 0.9919058518497629, 'g': 0.4996646880588159, 'm': 4}. Best is trial 12 with value: 0.8277847285593719.\n",
      "[I 2025-09-04 11:01:16,811] Trial 13 finished with value: 0.8096816719460422 and parameters: {'max_depth': 6, 'lr': 0.008930332381007912, 'ss': 0.8496255052548805, 'n': 1080, 'cs': 0.9963782058916621, 'g': 0.4841499201969915, 'm': 4}. Best is trial 12 with value: 0.8277847285593719.\n",
      "[I 2025-09-04 11:01:33,962] Trial 14 finished with value: 0.826630868225188 and parameters: {'max_depth': 10, 'lr': 0.00903175814096334, 'ss': 0.9980789532007693, 'n': 1193, 'cs': 0.9350247715393756, 'g': 0.42200212553620575, 'm': 5}. Best is trial 12 with value: 0.8277847285593719.\n",
      "[I 2025-09-04 11:01:45,305] Trial 15 finished with value: 0.818676372950037 and parameters: {'max_depth': 8, 'lr': 0.008097281682978182, 'ss': 0.8385438945453557, 'n': 1079, 'cs': 0.8846308127495128, 'g': 0.3987348229537294, 'm': 3}. Best is trial 12 with value: 0.8277847285593719.\n",
      "[I 2025-09-04 11:01:52,950] Trial 16 finished with value: 0.8037926737683078 and parameters: {'max_depth': 5, 'lr': 0.009379291922426536, 'ss': 0.8995389896344256, 'n': 1191, 'cs': 0.9996661127945654, 'g': 0.43711627257337, 'm': 6}. Best is trial 12 with value: 0.8277847285593719.\n",
      "[I 2025-09-04 11:02:05,826] Trial 17 finished with value: 0.8216795946881195 and parameters: {'max_depth': 9, 'lr': 0.008030016986126267, 'ss': 0.5966269882622386, 'n': 1081, 'cs': 0.7626326068561582, 'g': 0.34119994667671905, 'm': 7}. Best is trial 12 with value: 0.8277847285593719.\n",
      "[I 2025-09-04 11:02:11,422] Trial 18 finished with value: 0.7892944665839148 and parameters: {'max_depth': 7, 'lr': 0.006302378435579341, 'ss': 0.9979537879636795, 'n': 602, 'cs': 0.9335663062700634, 'g': 0.49017265088658385, 'm': 3}. Best is trial 12 with value: 0.8277847285593719.\n",
      "[I 2025-09-04 11:02:27,086] Trial 19 finished with value: 0.8217752559637757 and parameters: {'max_depth': 10, 'lr': 0.00938945446303409, 'ss': 0.7934991944980954, 'n': 1018, 'cs': 0.5077738110879945, 'g': 0.21436681348582176, 'm': 5}. Best is trial 12 with value: 0.8277847285593719.\n"
     ]
    }
   ],
   "source": [
    "import optuna\n",
    "def objective (trial):\n",
    "    params = {\n",
    "        'max_depth' : trial.suggest_int('max_depth',3,10),\n",
    "        'learning_rate' : trial.suggest_float('lr',0.005,0.01),\n",
    "        'subsample' : trial.suggest_float('ss',0.5,1),\n",
    "        'n_estimators' : trial.suggest_int('n',600,1200),\n",
    "        'colsample_bytree': trial.suggest_float('cs',0.5,1),\n",
    "        'gamma' : trial.suggest_float('g',0,0.5),\n",
    "        'min_child_weight' : trial.suggest_int('m',1,10),\n",
    "        'random_state' : 98\n",
    "    }\n",
    "    model  = XGBClassifier(**params,\n",
    "                          device = 'cuda')\n",
    "    model.fit(X_train,Y_train)\n",
    "    pre = model.predict(X_test)\n",
    "    return roc_auc_score(Y_test,pre)\n",
    "    \n",
    "study = optuna.create_study(direction = 'maximize')\n",
    "study.optimize(objective,n_trials= 20)"
   ]
  },
  {
   "cell_type": "code",
   "execution_count": 16,
   "id": "797cf14a",
   "metadata": {
    "execution": {
     "iopub.execute_input": "2025-09-04T11:02:27.115129Z",
     "iopub.status.busy": "2025-09-04T11:02:27.114912Z",
     "iopub.status.idle": "2025-09-04T11:02:42.828881Z",
     "shell.execute_reply": "2025-09-04T11:02:42.828158Z"
    },
    "papermill": {
     "duration": 15.72542,
     "end_time": "2025-09-04T11:02:42.830127",
     "exception": false,
     "start_time": "2025-09-04T11:02:27.104707",
     "status": "completed"
    },
    "tags": []
   },
   "outputs": [
    {
     "data": {
      "text/html": [
       "<style>#sk-container-id-1 {color: black;background-color: white;}#sk-container-id-1 pre{padding: 0;}#sk-container-id-1 div.sk-toggleable {background-color: white;}#sk-container-id-1 label.sk-toggleable__label {cursor: pointer;display: block;width: 100%;margin-bottom: 0;padding: 0.3em;box-sizing: border-box;text-align: center;}#sk-container-id-1 label.sk-toggleable__label-arrow:before {content: \"▸\";float: left;margin-right: 0.25em;color: #696969;}#sk-container-id-1 label.sk-toggleable__label-arrow:hover:before {color: black;}#sk-container-id-1 div.sk-estimator:hover label.sk-toggleable__label-arrow:before {color: black;}#sk-container-id-1 div.sk-toggleable__content {max-height: 0;max-width: 0;overflow: hidden;text-align: left;background-color: #f0f8ff;}#sk-container-id-1 div.sk-toggleable__content pre {margin: 0.2em;color: black;border-radius: 0.25em;background-color: #f0f8ff;}#sk-container-id-1 input.sk-toggleable__control:checked~div.sk-toggleable__content {max-height: 200px;max-width: 100%;overflow: auto;}#sk-container-id-1 input.sk-toggleable__control:checked~label.sk-toggleable__label-arrow:before {content: \"▾\";}#sk-container-id-1 div.sk-estimator input.sk-toggleable__control:checked~label.sk-toggleable__label {background-color: #d4ebff;}#sk-container-id-1 div.sk-label input.sk-toggleable__control:checked~label.sk-toggleable__label {background-color: #d4ebff;}#sk-container-id-1 input.sk-hidden--visually {border: 0;clip: rect(1px 1px 1px 1px);clip: rect(1px, 1px, 1px, 1px);height: 1px;margin: -1px;overflow: hidden;padding: 0;position: absolute;width: 1px;}#sk-container-id-1 div.sk-estimator {font-family: monospace;background-color: #f0f8ff;border: 1px dotted black;border-radius: 0.25em;box-sizing: border-box;margin-bottom: 0.5em;}#sk-container-id-1 div.sk-estimator:hover {background-color: #d4ebff;}#sk-container-id-1 div.sk-parallel-item::after {content: \"\";width: 100%;border-bottom: 1px solid gray;flex-grow: 1;}#sk-container-id-1 div.sk-label:hover label.sk-toggleable__label {background-color: #d4ebff;}#sk-container-id-1 div.sk-serial::before {content: \"\";position: absolute;border-left: 1px solid gray;box-sizing: border-box;top: 0;bottom: 0;left: 50%;z-index: 0;}#sk-container-id-1 div.sk-serial {display: flex;flex-direction: column;align-items: center;background-color: white;padding-right: 0.2em;padding-left: 0.2em;position: relative;}#sk-container-id-1 div.sk-item {position: relative;z-index: 1;}#sk-container-id-1 div.sk-parallel {display: flex;align-items: stretch;justify-content: center;background-color: white;position: relative;}#sk-container-id-1 div.sk-item::before, #sk-container-id-1 div.sk-parallel-item::before {content: \"\";position: absolute;border-left: 1px solid gray;box-sizing: border-box;top: 0;bottom: 0;left: 50%;z-index: -1;}#sk-container-id-1 div.sk-parallel-item {display: flex;flex-direction: column;z-index: 1;position: relative;background-color: white;}#sk-container-id-1 div.sk-parallel-item:first-child::after {align-self: flex-end;width: 50%;}#sk-container-id-1 div.sk-parallel-item:last-child::after {align-self: flex-start;width: 50%;}#sk-container-id-1 div.sk-parallel-item:only-child::after {width: 0;}#sk-container-id-1 div.sk-dashed-wrapped {border: 1px dashed gray;margin: 0 0.4em 0.5em 0.4em;box-sizing: border-box;padding-bottom: 0.4em;background-color: white;}#sk-container-id-1 div.sk-label label {font-family: monospace;font-weight: bold;display: inline-block;line-height: 1.2em;}#sk-container-id-1 div.sk-label-container {text-align: center;}#sk-container-id-1 div.sk-container {/* jupyter's `normalize.less` sets `[hidden] { display: none; }` but bootstrap.min.css set `[hidden] { display: none !important; }` so we also need the `!important` here to be able to override the default hidden behavior on the sphinx rendered scikit-learn.org. See: https://github.com/scikit-learn/scikit-learn/issues/21755 */display: inline-block !important;position: relative;}#sk-container-id-1 div.sk-text-repr-fallback {display: none;}</style><div id=\"sk-container-id-1\" class=\"sk-top-container\"><div class=\"sk-text-repr-fallback\"><pre>XGBClassifier(base_score=None, booster=None, callbacks=None,\n",
       "              colsample_bylevel=None, colsample_bynode=None,\n",
       "              colsample_bytree=0.5612644396085253, device=&#x27;cuda&#x27;,\n",
       "              early_stopping_rounds=None, enable_categorical=False,\n",
       "              eval_metric=None, feature_types=None, gamma=0.3047012122494639,\n",
       "              grow_policy=None, importance_type=None,\n",
       "              interaction_constraints=None, learning_rate=0.00960008360096706,\n",
       "              max_bin=None, max_cat_threshold=None, max_cat_to_onehot=None,\n",
       "              max_delta_step=None, max_depth=10, max_leaves=None,\n",
       "              min_child_weight=4, missing=nan, monotone_constraints=None,\n",
       "              multi_strategy=None, n_estimators=1036, n_jobs=None,\n",
       "              num_parallel_tree=None, random_state=98, ...)</pre><b>In a Jupyter environment, please rerun this cell to show the HTML representation or trust the notebook. <br />On GitHub, the HTML representation is unable to render, please try loading this page with nbviewer.org.</b></div><div class=\"sk-container\" hidden><div class=\"sk-item\"><div class=\"sk-estimator sk-toggleable\"><input class=\"sk-toggleable__control sk-hidden--visually\" id=\"sk-estimator-id-1\" type=\"checkbox\" checked><label for=\"sk-estimator-id-1\" class=\"sk-toggleable__label sk-toggleable__label-arrow\">XGBClassifier</label><div class=\"sk-toggleable__content\"><pre>XGBClassifier(base_score=None, booster=None, callbacks=None,\n",
       "              colsample_bylevel=None, colsample_bynode=None,\n",
       "              colsample_bytree=0.5612644396085253, device=&#x27;cuda&#x27;,\n",
       "              early_stopping_rounds=None, enable_categorical=False,\n",
       "              eval_metric=None, feature_types=None, gamma=0.3047012122494639,\n",
       "              grow_policy=None, importance_type=None,\n",
       "              interaction_constraints=None, learning_rate=0.00960008360096706,\n",
       "              max_bin=None, max_cat_threshold=None, max_cat_to_onehot=None,\n",
       "              max_delta_step=None, max_depth=10, max_leaves=None,\n",
       "              min_child_weight=4, missing=nan, monotone_constraints=None,\n",
       "              multi_strategy=None, n_estimators=1036, n_jobs=None,\n",
       "              num_parallel_tree=None, random_state=98, ...)</pre></div></div></div></div></div>"
      ],
      "text/plain": [
       "XGBClassifier(base_score=None, booster=None, callbacks=None,\n",
       "              colsample_bylevel=None, colsample_bynode=None,\n",
       "              colsample_bytree=0.5612644396085253, device='cuda',\n",
       "              early_stopping_rounds=None, enable_categorical=False,\n",
       "              eval_metric=None, feature_types=None, gamma=0.3047012122494639,\n",
       "              grow_policy=None, importance_type=None,\n",
       "              interaction_constraints=None, learning_rate=0.00960008360096706,\n",
       "              max_bin=None, max_cat_threshold=None, max_cat_to_onehot=None,\n",
       "              max_delta_step=None, max_depth=10, max_leaves=None,\n",
       "              min_child_weight=4, missing=nan, monotone_constraints=None,\n",
       "              multi_strategy=None, n_estimators=1036, n_jobs=None,\n",
       "              num_parallel_tree=None, random_state=98, ...)"
      ]
     },
     "execution_count": 16,
     "metadata": {},
     "output_type": "execute_result"
    }
   ],
   "source": [
    "xgb_model  = XGBClassifier(max_depth =  10\n",
    "                           , learning_rate =  0.00960008360096706\n",
    "                           , subsample =  0.7343265983322328\n",
    "                           , n_estimators= 1036\n",
    "                           , colsample_bytree =  0.5612644396085253\n",
    "                           , gamma =  0.3047012122494639\n",
    "                           , min_child_weight=  4\n",
    "                           , random_state = 98\n",
    "                           , device = 'cuda')\n",
    "xgb_model.fit(X_train,Y_train,verbose = 1)\n",
    "\n"
   ]
  },
  {
   "cell_type": "code",
   "execution_count": 17,
   "id": "c01eb341",
   "metadata": {
    "execution": {
     "iopub.execute_input": "2025-09-04T11:02:42.852285Z",
     "iopub.status.busy": "2025-09-04T11:02:42.851639Z",
     "iopub.status.idle": "2025-09-04T11:02:43.061743Z",
     "shell.execute_reply": "2025-09-04T11:02:43.060748Z"
    },
    "papermill": {
     "duration": 0.222881,
     "end_time": "2025-09-04T11:02:43.063205",
     "exception": false,
     "start_time": "2025-09-04T11:02:42.840324",
     "status": "completed"
    },
    "tags": []
   },
   "outputs": [
    {
     "name": "stdout",
     "output_type": "stream",
     "text": [
      "My AUC score is 0.9674605725902193\n"
     ]
    }
   ],
   "source": [
    "prediction1 = xgb_model.predict_proba(X_test)\n",
    "print(\"My AUC score is\",roc_auc_score(Y_test,prediction1[:,1]))\n"
   ]
  },
  {
   "cell_type": "markdown",
   "id": "5e705493",
   "metadata": {
    "papermill": {
     "duration": 0.010696,
     "end_time": "2025-09-04T11:02:43.084843",
     "exception": false,
     "start_time": "2025-09-04T11:02:43.074147",
     "status": "completed"
    },
    "tags": []
   },
   "source": [
    "# LGBM"
   ]
  },
  {
   "cell_type": "markdown",
   "id": "e99d4ef1",
   "metadata": {
    "papermill": {
     "duration": 0.009608,
     "end_time": "2025-09-04T11:02:43.104464",
     "exception": false,
     "start_time": "2025-09-04T11:02:43.094856",
     "status": "completed"
    },
    "tags": []
   },
   "source": [
    "## Optuna Optimized LGBM too and the parameters below is taken by this optimization by selecting the best hyperparameters."
   ]
  },
  {
   "cell_type": "code",
   "execution_count": 18,
   "id": "3888f706",
   "metadata": {
    "execution": {
     "iopub.execute_input": "2025-09-04T11:02:43.125442Z",
     "iopub.status.busy": "2025-09-04T11:02:43.125212Z",
     "iopub.status.idle": "2025-09-04T11:03:08.145582Z",
     "shell.execute_reply": "2025-09-04T11:03:08.144812Z"
    },
    "papermill": {
     "duration": 25.032633,
     "end_time": "2025-09-04T11:03:08.146867",
     "exception": false,
     "start_time": "2025-09-04T11:02:43.114234",
     "status": "completed"
    },
    "tags": []
   },
   "outputs": [
    {
     "data": {
      "text/html": [
       "<style>#sk-container-id-2 {color: black;background-color: white;}#sk-container-id-2 pre{padding: 0;}#sk-container-id-2 div.sk-toggleable {background-color: white;}#sk-container-id-2 label.sk-toggleable__label {cursor: pointer;display: block;width: 100%;margin-bottom: 0;padding: 0.3em;box-sizing: border-box;text-align: center;}#sk-container-id-2 label.sk-toggleable__label-arrow:before {content: \"▸\";float: left;margin-right: 0.25em;color: #696969;}#sk-container-id-2 label.sk-toggleable__label-arrow:hover:before {color: black;}#sk-container-id-2 div.sk-estimator:hover label.sk-toggleable__label-arrow:before {color: black;}#sk-container-id-2 div.sk-toggleable__content {max-height: 0;max-width: 0;overflow: hidden;text-align: left;background-color: #f0f8ff;}#sk-container-id-2 div.sk-toggleable__content pre {margin: 0.2em;color: black;border-radius: 0.25em;background-color: #f0f8ff;}#sk-container-id-2 input.sk-toggleable__control:checked~div.sk-toggleable__content {max-height: 200px;max-width: 100%;overflow: auto;}#sk-container-id-2 input.sk-toggleable__control:checked~label.sk-toggleable__label-arrow:before {content: \"▾\";}#sk-container-id-2 div.sk-estimator input.sk-toggleable__control:checked~label.sk-toggleable__label {background-color: #d4ebff;}#sk-container-id-2 div.sk-label input.sk-toggleable__control:checked~label.sk-toggleable__label {background-color: #d4ebff;}#sk-container-id-2 input.sk-hidden--visually {border: 0;clip: rect(1px 1px 1px 1px);clip: rect(1px, 1px, 1px, 1px);height: 1px;margin: -1px;overflow: hidden;padding: 0;position: absolute;width: 1px;}#sk-container-id-2 div.sk-estimator {font-family: monospace;background-color: #f0f8ff;border: 1px dotted black;border-radius: 0.25em;box-sizing: border-box;margin-bottom: 0.5em;}#sk-container-id-2 div.sk-estimator:hover {background-color: #d4ebff;}#sk-container-id-2 div.sk-parallel-item::after {content: \"\";width: 100%;border-bottom: 1px solid gray;flex-grow: 1;}#sk-container-id-2 div.sk-label:hover label.sk-toggleable__label {background-color: #d4ebff;}#sk-container-id-2 div.sk-serial::before {content: \"\";position: absolute;border-left: 1px solid gray;box-sizing: border-box;top: 0;bottom: 0;left: 50%;z-index: 0;}#sk-container-id-2 div.sk-serial {display: flex;flex-direction: column;align-items: center;background-color: white;padding-right: 0.2em;padding-left: 0.2em;position: relative;}#sk-container-id-2 div.sk-item {position: relative;z-index: 1;}#sk-container-id-2 div.sk-parallel {display: flex;align-items: stretch;justify-content: center;background-color: white;position: relative;}#sk-container-id-2 div.sk-item::before, #sk-container-id-2 div.sk-parallel-item::before {content: \"\";position: absolute;border-left: 1px solid gray;box-sizing: border-box;top: 0;bottom: 0;left: 50%;z-index: -1;}#sk-container-id-2 div.sk-parallel-item {display: flex;flex-direction: column;z-index: 1;position: relative;background-color: white;}#sk-container-id-2 div.sk-parallel-item:first-child::after {align-self: flex-end;width: 50%;}#sk-container-id-2 div.sk-parallel-item:last-child::after {align-self: flex-start;width: 50%;}#sk-container-id-2 div.sk-parallel-item:only-child::after {width: 0;}#sk-container-id-2 div.sk-dashed-wrapped {border: 1px dashed gray;margin: 0 0.4em 0.5em 0.4em;box-sizing: border-box;padding-bottom: 0.4em;background-color: white;}#sk-container-id-2 div.sk-label label {font-family: monospace;font-weight: bold;display: inline-block;line-height: 1.2em;}#sk-container-id-2 div.sk-label-container {text-align: center;}#sk-container-id-2 div.sk-container {/* jupyter's `normalize.less` sets `[hidden] { display: none; }` but bootstrap.min.css set `[hidden] { display: none !important; }` so we also need the `!important` here to be able to override the default hidden behavior on the sphinx rendered scikit-learn.org. See: https://github.com/scikit-learn/scikit-learn/issues/21755 */display: inline-block !important;position: relative;}#sk-container-id-2 div.sk-text-repr-fallback {display: none;}</style><div id=\"sk-container-id-2\" class=\"sk-top-container\"><div class=\"sk-text-repr-fallback\"><pre>LGBMClassifier(colsample_bytree=0.808616862983552, gamma=0.2395225512959197,\n",
       "               learning_rate=0.00837639183587293, max_depth=8,\n",
       "               min_child_weight=8, n_estimators=847, random_state=7,\n",
       "               subsample=0.953557869970604, verbose=-1)</pre><b>In a Jupyter environment, please rerun this cell to show the HTML representation or trust the notebook. <br />On GitHub, the HTML representation is unable to render, please try loading this page with nbviewer.org.</b></div><div class=\"sk-container\" hidden><div class=\"sk-item\"><div class=\"sk-estimator sk-toggleable\"><input class=\"sk-toggleable__control sk-hidden--visually\" id=\"sk-estimator-id-2\" type=\"checkbox\" checked><label for=\"sk-estimator-id-2\" class=\"sk-toggleable__label sk-toggleable__label-arrow\">LGBMClassifier</label><div class=\"sk-toggleable__content\"><pre>LGBMClassifier(colsample_bytree=0.808616862983552, gamma=0.2395225512959197,\n",
       "               learning_rate=0.00837639183587293, max_depth=8,\n",
       "               min_child_weight=8, n_estimators=847, random_state=7,\n",
       "               subsample=0.953557869970604, verbose=-1)</pre></div></div></div></div></div>"
      ],
      "text/plain": [
       "LGBMClassifier(colsample_bytree=0.808616862983552, gamma=0.2395225512959197,\n",
       "               learning_rate=0.00837639183587293, max_depth=8,\n",
       "               min_child_weight=8, n_estimators=847, random_state=7,\n",
       "               subsample=0.953557869970604, verbose=-1)"
      ]
     },
     "execution_count": 18,
     "metadata": {},
     "output_type": "execute_result"
    }
   ],
   "source": [
    "lgbm_model = LGBMClassifier(\n",
    "    max_depth=  8, learning_rate= 0.00837639183587293, subsample=0.953557869970604, n_estimators= 847, colsample_bytree=0.808616862983552, gamma= 0.2395225512959197, min_child_weight= 8,\n",
    "    verbose = -1,random_state = 7\n",
    ")\n",
    "lgbm_model.fit(X_train,Y_train)\n"
   ]
  },
  {
   "cell_type": "code",
   "execution_count": 19,
   "id": "22886765",
   "metadata": {
    "execution": {
     "iopub.execute_input": "2025-09-04T11:03:08.169956Z",
     "iopub.status.busy": "2025-09-04T11:03:08.169729Z",
     "iopub.status.idle": "2025-09-04T11:03:14.142440Z",
     "shell.execute_reply": "2025-09-04T11:03:14.141756Z"
    },
    "papermill": {
     "duration": 5.984356,
     "end_time": "2025-09-04T11:03:14.143652",
     "exception": false,
     "start_time": "2025-09-04T11:03:08.159296",
     "status": "completed"
    },
    "tags": []
   },
   "outputs": [
    {
     "name": "stdout",
     "output_type": "stream",
     "text": [
      "My Auc Score is 0.9627338505963965\n"
     ]
    }
   ],
   "source": [
    "prediction2 = lgbm_model.predict_proba(X_test)\n",
    "print(\"My Auc Score is\",roc_auc_score(Y_test,prediction2[:,1]))\n"
   ]
  },
  {
   "cell_type": "markdown",
   "id": "4e8eb143",
   "metadata": {
    "papermill": {
     "duration": 0.010172,
     "end_time": "2025-09-04T11:03:14.164167",
     "exception": false,
     "start_time": "2025-09-04T11:03:14.153995",
     "status": "completed"
    },
    "tags": []
   },
   "source": [
    "# Voting Classifier"
   ]
  },
  {
   "cell_type": "markdown",
   "id": "037a1e19",
   "metadata": {
    "papermill": {
     "duration": 0.009543,
     "end_time": "2025-09-04T11:03:14.183355",
     "exception": false,
     "start_time": "2025-09-04T11:03:14.173812",
     "status": "completed"
    },
    "tags": []
   },
   "source": [
    "Gathering all models to get one reasonable solution. "
   ]
  },
  {
   "cell_type": "code",
   "execution_count": 20,
   "id": "04db19ce",
   "metadata": {
    "execution": {
     "iopub.execute_input": "2025-09-04T11:03:14.203970Z",
     "iopub.status.busy": "2025-09-04T11:03:14.203376Z",
     "iopub.status.idle": "2025-09-04T11:04:06.835164Z",
     "shell.execute_reply": "2025-09-04T11:04:06.834397Z"
    },
    "papermill": {
     "duration": 52.653994,
     "end_time": "2025-09-04T11:04:06.847165",
     "exception": false,
     "start_time": "2025-09-04T11:03:14.193171",
     "status": "completed"
    },
    "tags": []
   },
   "outputs": [
    {
     "name": "stdout",
     "output_type": "stream",
     "text": [
      "0:\tlearn: 0.5247504\ttotal: 32.9ms\tremaining: 19.9s\n",
      "150:\tlearn: 0.1468672\ttotal: 2.91s\tremaining: 8.76s\n",
      "300:\tlearn: 0.1382169\ttotal: 5.53s\tremaining: 5.58s\n",
      "450:\tlearn: 0.1311935\ttotal: 8.17s\tremaining: 2.79s\n",
      "600:\tlearn: 0.1253064\ttotal: 10.8s\tremaining: 72ms\n",
      "604:\tlearn: 0.1251546\ttotal: 10.9s\tremaining: 0us\n"
     ]
    },
    {
     "data": {
      "text/html": [
       "<style>#sk-container-id-3 {color: black;background-color: white;}#sk-container-id-3 pre{padding: 0;}#sk-container-id-3 div.sk-toggleable {background-color: white;}#sk-container-id-3 label.sk-toggleable__label {cursor: pointer;display: block;width: 100%;margin-bottom: 0;padding: 0.3em;box-sizing: border-box;text-align: center;}#sk-container-id-3 label.sk-toggleable__label-arrow:before {content: \"▸\";float: left;margin-right: 0.25em;color: #696969;}#sk-container-id-3 label.sk-toggleable__label-arrow:hover:before {color: black;}#sk-container-id-3 div.sk-estimator:hover label.sk-toggleable__label-arrow:before {color: black;}#sk-container-id-3 div.sk-toggleable__content {max-height: 0;max-width: 0;overflow: hidden;text-align: left;background-color: #f0f8ff;}#sk-container-id-3 div.sk-toggleable__content pre {margin: 0.2em;color: black;border-radius: 0.25em;background-color: #f0f8ff;}#sk-container-id-3 input.sk-toggleable__control:checked~div.sk-toggleable__content {max-height: 200px;max-width: 100%;overflow: auto;}#sk-container-id-3 input.sk-toggleable__control:checked~label.sk-toggleable__label-arrow:before {content: \"▾\";}#sk-container-id-3 div.sk-estimator input.sk-toggleable__control:checked~label.sk-toggleable__label {background-color: #d4ebff;}#sk-container-id-3 div.sk-label input.sk-toggleable__control:checked~label.sk-toggleable__label {background-color: #d4ebff;}#sk-container-id-3 input.sk-hidden--visually {border: 0;clip: rect(1px 1px 1px 1px);clip: rect(1px, 1px, 1px, 1px);height: 1px;margin: -1px;overflow: hidden;padding: 0;position: absolute;width: 1px;}#sk-container-id-3 div.sk-estimator {font-family: monospace;background-color: #f0f8ff;border: 1px dotted black;border-radius: 0.25em;box-sizing: border-box;margin-bottom: 0.5em;}#sk-container-id-3 div.sk-estimator:hover {background-color: #d4ebff;}#sk-container-id-3 div.sk-parallel-item::after {content: \"\";width: 100%;border-bottom: 1px solid gray;flex-grow: 1;}#sk-container-id-3 div.sk-label:hover label.sk-toggleable__label {background-color: #d4ebff;}#sk-container-id-3 div.sk-serial::before {content: \"\";position: absolute;border-left: 1px solid gray;box-sizing: border-box;top: 0;bottom: 0;left: 50%;z-index: 0;}#sk-container-id-3 div.sk-serial {display: flex;flex-direction: column;align-items: center;background-color: white;padding-right: 0.2em;padding-left: 0.2em;position: relative;}#sk-container-id-3 div.sk-item {position: relative;z-index: 1;}#sk-container-id-3 div.sk-parallel {display: flex;align-items: stretch;justify-content: center;background-color: white;position: relative;}#sk-container-id-3 div.sk-item::before, #sk-container-id-3 div.sk-parallel-item::before {content: \"\";position: absolute;border-left: 1px solid gray;box-sizing: border-box;top: 0;bottom: 0;left: 50%;z-index: -1;}#sk-container-id-3 div.sk-parallel-item {display: flex;flex-direction: column;z-index: 1;position: relative;background-color: white;}#sk-container-id-3 div.sk-parallel-item:first-child::after {align-self: flex-end;width: 50%;}#sk-container-id-3 div.sk-parallel-item:last-child::after {align-self: flex-start;width: 50%;}#sk-container-id-3 div.sk-parallel-item:only-child::after {width: 0;}#sk-container-id-3 div.sk-dashed-wrapped {border: 1px dashed gray;margin: 0 0.4em 0.5em 0.4em;box-sizing: border-box;padding-bottom: 0.4em;background-color: white;}#sk-container-id-3 div.sk-label label {font-family: monospace;font-weight: bold;display: inline-block;line-height: 1.2em;}#sk-container-id-3 div.sk-label-container {text-align: center;}#sk-container-id-3 div.sk-container {/* jupyter's `normalize.less` sets `[hidden] { display: none; }` but bootstrap.min.css set `[hidden] { display: none !important; }` so we also need the `!important` here to be able to override the default hidden behavior on the sphinx rendered scikit-learn.org. See: https://github.com/scikit-learn/scikit-learn/issues/21755 */display: inline-block !important;position: relative;}#sk-container-id-3 div.sk-text-repr-fallback {display: none;}</style><div id=\"sk-container-id-3\" class=\"sk-top-container\"><div class=\"sk-text-repr-fallback\"><pre>VotingClassifier(estimators=[(&#x27;cat&#x27;,\n",
       "                              &lt;catboost.core.CatBoostClassifier object at 0x7f641d995250&gt;),\n",
       "                             (&#x27;xgb&#x27;,\n",
       "                              XGBClassifier(base_score=None, booster=None,\n",
       "                                            callbacks=None,\n",
       "                                            colsample_bylevel=None,\n",
       "                                            colsample_bynode=None,\n",
       "                                            colsample_bytree=0.5612644396085253,\n",
       "                                            device=&#x27;cuda&#x27;,\n",
       "                                            early_stopping_rounds=None,\n",
       "                                            enable_categorical=False,\n",
       "                                            eval_metric=None,\n",
       "                                            feature_types=None,\n",
       "                                            gamma=0....\n",
       "                                            monotone_constraints=None,\n",
       "                                            multi_strategy=None,\n",
       "                                            n_estimators=1036, n_jobs=None,\n",
       "                                            num_parallel_tree=None,\n",
       "                                            random_state=98, ...)),\n",
       "                             (&#x27;lgbm&#x27;,\n",
       "                              LGBMClassifier(colsample_bytree=0.808616862983552,\n",
       "                                             gamma=0.2395225512959197,\n",
       "                                             learning_rate=0.00837639183587293,\n",
       "                                             max_depth=8, min_child_weight=8,\n",
       "                                             n_estimators=847, random_state=7,\n",
       "                                             subsample=0.953557869970604,\n",
       "                                             verbose=-1))],\n",
       "                 voting=&#x27;soft&#x27;)</pre><b>In a Jupyter environment, please rerun this cell to show the HTML representation or trust the notebook. <br />On GitHub, the HTML representation is unable to render, please try loading this page with nbviewer.org.</b></div><div class=\"sk-container\" hidden><div class=\"sk-item sk-dashed-wrapped\"><div class=\"sk-label-container\"><div class=\"sk-label sk-toggleable\"><input class=\"sk-toggleable__control sk-hidden--visually\" id=\"sk-estimator-id-3\" type=\"checkbox\" ><label for=\"sk-estimator-id-3\" class=\"sk-toggleable__label sk-toggleable__label-arrow\">VotingClassifier</label><div class=\"sk-toggleable__content\"><pre>VotingClassifier(estimators=[(&#x27;cat&#x27;,\n",
       "                              &lt;catboost.core.CatBoostClassifier object at 0x7f641d995250&gt;),\n",
       "                             (&#x27;xgb&#x27;,\n",
       "                              XGBClassifier(base_score=None, booster=None,\n",
       "                                            callbacks=None,\n",
       "                                            colsample_bylevel=None,\n",
       "                                            colsample_bynode=None,\n",
       "                                            colsample_bytree=0.5612644396085253,\n",
       "                                            device=&#x27;cuda&#x27;,\n",
       "                                            early_stopping_rounds=None,\n",
       "                                            enable_categorical=False,\n",
       "                                            eval_metric=None,\n",
       "                                            feature_types=None,\n",
       "                                            gamma=0....\n",
       "                                            monotone_constraints=None,\n",
       "                                            multi_strategy=None,\n",
       "                                            n_estimators=1036, n_jobs=None,\n",
       "                                            num_parallel_tree=None,\n",
       "                                            random_state=98, ...)),\n",
       "                             (&#x27;lgbm&#x27;,\n",
       "                              LGBMClassifier(colsample_bytree=0.808616862983552,\n",
       "                                             gamma=0.2395225512959197,\n",
       "                                             learning_rate=0.00837639183587293,\n",
       "                                             max_depth=8, min_child_weight=8,\n",
       "                                             n_estimators=847, random_state=7,\n",
       "                                             subsample=0.953557869970604,\n",
       "                                             verbose=-1))],\n",
       "                 voting=&#x27;soft&#x27;)</pre></div></div></div><div class=\"sk-parallel\"><div class=\"sk-parallel-item\"><div class=\"sk-item\"><div class=\"sk-label-container\"><div class=\"sk-label sk-toggleable\"><label>cat</label></div></div><div class=\"sk-serial\"><div class=\"sk-item\"><div class=\"sk-estimator sk-toggleable\"><input class=\"sk-toggleable__control sk-hidden--visually\" id=\"sk-estimator-id-4\" type=\"checkbox\" ><label for=\"sk-estimator-id-4\" class=\"sk-toggleable__label sk-toggleable__label-arrow\">CatBoostClassifier</label><div class=\"sk-toggleable__content\"><pre>&lt;catboost.core.CatBoostClassifier object at 0x7f641d995250&gt;</pre></div></div></div></div></div></div><div class=\"sk-parallel-item\"><div class=\"sk-item\"><div class=\"sk-label-container\"><div class=\"sk-label sk-toggleable\"><label>xgb</label></div></div><div class=\"sk-serial\"><div class=\"sk-item\"><div class=\"sk-estimator sk-toggleable\"><input class=\"sk-toggleable__control sk-hidden--visually\" id=\"sk-estimator-id-5\" type=\"checkbox\" ><label for=\"sk-estimator-id-5\" class=\"sk-toggleable__label sk-toggleable__label-arrow\">XGBClassifier</label><div class=\"sk-toggleable__content\"><pre>XGBClassifier(base_score=None, booster=None, callbacks=None,\n",
       "              colsample_bylevel=None, colsample_bynode=None,\n",
       "              colsample_bytree=0.5612644396085253, device=&#x27;cuda&#x27;,\n",
       "              early_stopping_rounds=None, enable_categorical=False,\n",
       "              eval_metric=None, feature_types=None, gamma=0.3047012122494639,\n",
       "              grow_policy=None, importance_type=None,\n",
       "              interaction_constraints=None, learning_rate=0.00960008360096706,\n",
       "              max_bin=None, max_cat_threshold=None, max_cat_to_onehot=None,\n",
       "              max_delta_step=None, max_depth=10, max_leaves=None,\n",
       "              min_child_weight=4, missing=nan, monotone_constraints=None,\n",
       "              multi_strategy=None, n_estimators=1036, n_jobs=None,\n",
       "              num_parallel_tree=None, random_state=98, ...)</pre></div></div></div></div></div></div><div class=\"sk-parallel-item\"><div class=\"sk-item\"><div class=\"sk-label-container\"><div class=\"sk-label sk-toggleable\"><label>lgbm</label></div></div><div class=\"sk-serial\"><div class=\"sk-item\"><div class=\"sk-estimator sk-toggleable\"><input class=\"sk-toggleable__control sk-hidden--visually\" id=\"sk-estimator-id-6\" type=\"checkbox\" ><label for=\"sk-estimator-id-6\" class=\"sk-toggleable__label sk-toggleable__label-arrow\">LGBMClassifier</label><div class=\"sk-toggleable__content\"><pre>LGBMClassifier(colsample_bytree=0.808616862983552, gamma=0.2395225512959197,\n",
       "               learning_rate=0.00837639183587293, max_depth=8,\n",
       "               min_child_weight=8, n_estimators=847, random_state=7,\n",
       "               subsample=0.953557869970604, verbose=-1)</pre></div></div></div></div></div></div></div></div></div></div>"
      ],
      "text/plain": [
       "VotingClassifier(estimators=[('cat',\n",
       "                              <catboost.core.CatBoostClassifier object at 0x7f641d995250>),\n",
       "                             ('xgb',\n",
       "                              XGBClassifier(base_score=None, booster=None,\n",
       "                                            callbacks=None,\n",
       "                                            colsample_bylevel=None,\n",
       "                                            colsample_bynode=None,\n",
       "                                            colsample_bytree=0.5612644396085253,\n",
       "                                            device='cuda',\n",
       "                                            early_stopping_rounds=None,\n",
       "                                            enable_categorical=False,\n",
       "                                            eval_metric=None,\n",
       "                                            feature_types=None,\n",
       "                                            gamma=0....\n",
       "                                            monotone_constraints=None,\n",
       "                                            multi_strategy=None,\n",
       "                                            n_estimators=1036, n_jobs=None,\n",
       "                                            num_parallel_tree=None,\n",
       "                                            random_state=98, ...)),\n",
       "                             ('lgbm',\n",
       "                              LGBMClassifier(colsample_bytree=0.808616862983552,\n",
       "                                             gamma=0.2395225512959197,\n",
       "                                             learning_rate=0.00837639183587293,\n",
       "                                             max_depth=8, min_child_weight=8,\n",
       "                                             n_estimators=847, random_state=7,\n",
       "                                             subsample=0.953557869970604,\n",
       "                                             verbose=-1))],\n",
       "                 voting='soft')"
      ]
     },
     "execution_count": 20,
     "metadata": {},
     "output_type": "execute_result"
    }
   ],
   "source": [
    "voting = VotingClassifier(\n",
    "    estimators = [('cat',cat_model),('xgb',xgb_model),(\"lgbm\",lgbm_model)],\n",
    "    voting = \"soft\"\n",
    ")\n",
    "voting.fit(X_train,Y_train)"
   ]
  },
  {
   "cell_type": "markdown",
   "id": "83ff6917",
   "metadata": {
    "papermill": {
     "duration": 0.01051,
     "end_time": "2025-09-04T11:04:06.867977",
     "exception": false,
     "start_time": "2025-09-04T11:04:06.857467",
     "status": "completed"
    },
    "tags": []
   },
   "source": [
    "# StratifiedKfold"
   ]
  },
  {
   "cell_type": "markdown",
   "id": "9d9aaaae",
   "metadata": {
    "papermill": {
     "duration": 0.010394,
     "end_time": "2025-09-04T11:04:06.888889",
     "exception": false,
     "start_time": "2025-09-04T11:04:06.878495",
     "status": "completed"
    },
    "tags": []
   },
   "source": [
    "By seperating data into bins,we used our model's 5 different versions which are trained with different datasets"
   ]
  },
  {
   "cell_type": "code",
   "execution_count": 21,
   "id": "871814fe",
   "metadata": {
    "execution": {
     "iopub.execute_input": "2025-09-04T11:04:06.911550Z",
     "iopub.status.busy": "2025-09-04T11:04:06.911334Z",
     "iopub.status.idle": "2025-09-04T11:09:20.084734Z",
     "shell.execute_reply": "2025-09-04T11:09:20.083853Z"
    },
    "papermill": {
     "duration": 313.187036,
     "end_time": "2025-09-04T11:09:20.086556",
     "exception": false,
     "start_time": "2025-09-04T11:04:06.899520",
     "status": "completed"
    },
    "tags": []
   },
   "outputs": [
    {
     "name": "stdout",
     "output_type": "stream",
     "text": [
      "0:\tlearn: 0.5254933\ttotal: 31ms\tremaining: 18.7s\n",
      "150:\tlearn: 0.1468437\ttotal: 2.77s\tremaining: 8.32s\n",
      "300:\tlearn: 0.1381800\ttotal: 5.42s\tremaining: 5.48s\n",
      "450:\tlearn: 0.1314365\ttotal: 8.05s\tremaining: 2.75s\n",
      "600:\tlearn: 0.1257139\ttotal: 10.7s\tremaining: 71.1ms\n",
      "604:\tlearn: 0.1255747\ttotal: 10.8s\tremaining: 0us\n",
      "0:\tlearn: 0.5191955\ttotal: 33.4ms\tremaining: 20.2s\n",
      "150:\tlearn: 0.1473436\ttotal: 2.91s\tremaining: 8.75s\n",
      "300:\tlearn: 0.1384337\ttotal: 5.64s\tremaining: 5.7s\n",
      "450:\tlearn: 0.1316758\ttotal: 8.27s\tremaining: 2.82s\n",
      "600:\tlearn: 0.1255164\ttotal: 10.9s\tremaining: 72.6ms\n",
      "604:\tlearn: 0.1253649\ttotal: 11s\tremaining: 0us\n",
      "0:\tlearn: 0.5246147\ttotal: 32.6ms\tremaining: 19.7s\n",
      "150:\tlearn: 0.1472923\ttotal: 2.87s\tremaining: 8.63s\n",
      "300:\tlearn: 0.1386579\ttotal: 5.58s\tremaining: 5.63s\n",
      "450:\tlearn: 0.1318556\ttotal: 8.24s\tremaining: 2.81s\n",
      "600:\tlearn: 0.1259093\ttotal: 10.9s\tremaining: 72.7ms\n",
      "604:\tlearn: 0.1257554\ttotal: 11s\tremaining: 0us\n",
      "0:\tlearn: 0.5197977\ttotal: 33.3ms\tremaining: 20.1s\n",
      "150:\tlearn: 0.1465446\ttotal: 2.84s\tremaining: 8.55s\n",
      "300:\tlearn: 0.1377725\ttotal: 5.44s\tremaining: 5.5s\n",
      "450:\tlearn: 0.1308605\ttotal: 8.09s\tremaining: 2.76s\n",
      "600:\tlearn: 0.1249361\ttotal: 10.8s\tremaining: 71.7ms\n",
      "604:\tlearn: 0.1248090\ttotal: 10.8s\tremaining: 0us\n",
      "0:\tlearn: 0.5242398\ttotal: 30ms\tremaining: 18.1s\n",
      "150:\tlearn: 0.1462724\ttotal: 2.58s\tremaining: 7.75s\n",
      "300:\tlearn: 0.1375820\ttotal: 5.09s\tremaining: 5.14s\n",
      "450:\tlearn: 0.1308746\ttotal: 7.71s\tremaining: 2.63s\n",
      "600:\tlearn: 0.1249696\ttotal: 10.3s\tremaining: 68.8ms\n",
      "604:\tlearn: 0.1248511\ttotal: 10.4s\tremaining: 0us\n"
     ]
    }
   ],
   "source": [
    "from sklearn.model_selection import StratifiedKFold\n",
    "fold = StratifiedKFold(n_splits = 5,shuffle = True,random_state = 788)\n",
    "probs = np.zeros(len(test))\n",
    "for (train,val) in fold.split(x,y):\n",
    "    X_train1,Y_train1 = x.iloc[train],y.iloc[train]\n",
    "    X_test1,Y_test1 = x.iloc[val],y.iloc[val]\n",
    "\n",
    "    voting.fit(X_train1,Y_train1)\n",
    "    prob = voting.predict_proba(test)\n",
    "    probs += (prob[:,1])/5\n",
    "    "
   ]
  },
  {
   "cell_type": "markdown",
   "id": "fab7f8cc",
   "metadata": {
    "papermill": {
     "duration": 0.010956,
     "end_time": "2025-09-04T11:09:20.109466",
     "exception": false,
     "start_time": "2025-09-04T11:09:20.098510",
     "status": "completed"
    },
    "tags": []
   },
   "source": [
    "# Predictions"
   ]
  },
  {
   "cell_type": "code",
   "execution_count": null,
   "id": "f2253770",
   "metadata": {
    "papermill": {
     "duration": 0.010927,
     "end_time": "2025-09-04T11:09:20.131474",
     "exception": false,
     "start_time": "2025-09-04T11:09:20.120547",
     "status": "completed"
    },
    "tags": []
   },
   "outputs": [],
   "source": []
  },
  {
   "cell_type": "code",
   "execution_count": 22,
   "id": "b8c7ae81",
   "metadata": {
    "execution": {
     "iopub.execute_input": "2025-09-04T11:09:20.154337Z",
     "iopub.status.busy": "2025-09-04T11:09:20.154100Z",
     "iopub.status.idle": "2025-09-04T11:09:20.730172Z",
     "shell.execute_reply": "2025-09-04T11:09:20.729374Z"
    },
    "papermill": {
     "duration": 0.589595,
     "end_time": "2025-09-04T11:09:20.731918",
     "exception": false,
     "start_time": "2025-09-04T11:09:20.142323",
     "status": "completed"
    },
    "tags": []
   },
   "outputs": [],
   "source": [
    "sample = pd.read_csv(\"/kaggle/input/playground-series-s5e8/sample_submission.csv\")\n",
    "sample.drop(columns = \"y\")\n",
    "sample[\"y\"] = probs\n",
    "sample.to_csv('predictions.csv',index = False)\n"
   ]
  },
  {
   "cell_type": "code",
   "execution_count": 23,
   "id": "b76c5c6d",
   "metadata": {
    "execution": {
     "iopub.execute_input": "2025-09-04T11:09:20.755491Z",
     "iopub.status.busy": "2025-09-04T11:09:20.755296Z",
     "iopub.status.idle": "2025-09-04T11:09:20.760813Z",
     "shell.execute_reply": "2025-09-04T11:09:20.760001Z"
    },
    "papermill": {
     "duration": 0.018458,
     "end_time": "2025-09-04T11:09:20.762012",
     "exception": false,
     "start_time": "2025-09-04T11:09:20.743554",
     "status": "completed"
    },
    "tags": []
   },
   "outputs": [
    {
     "name": "stdout",
     "output_type": "stream",
     "text": [
      "            id         y\n",
      "0       750000  0.009230\n",
      "1       750001  0.417918\n",
      "2       750002  0.001603\n",
      "3       750003  0.000727\n",
      "4       750004  0.060234\n",
      "...        ...       ...\n",
      "249995  999995  0.000783\n",
      "249996  999996  0.132990\n",
      "249997  999997  0.419185\n",
      "249998  999998  0.002647\n",
      "249999  999999  0.135780\n",
      "\n",
      "[250000 rows x 2 columns]\n"
     ]
    }
   ],
   "source": [
    "print(sample)"
   ]
  }
 ],
 "metadata": {
  "kaggle": {
   "accelerator": "nvidiaTeslaT4",
   "dataSources": [
    {
     "databundleVersionId": 12937777,
     "sourceId": 91719,
     "sourceType": "competition"
    }
   ],
   "dockerImageVersionId": 31089,
   "isGpuEnabled": true,
   "isInternetEnabled": true,
   "language": "python",
   "sourceType": "notebook"
  },
  "kernelspec": {
   "display_name": "Python 3",
   "language": "python",
   "name": "python3"
  },
  "language_info": {
   "codemirror_mode": {
    "name": "ipython",
    "version": 3
   },
   "file_extension": ".py",
   "mimetype": "text/x-python",
   "name": "python",
   "nbconvert_exporter": "python",
   "pygments_lexer": "ipython3",
   "version": "3.11.13"
  },
  "papermill": {
   "default_parameters": {},
   "duration": 738.14665,
   "end_time": "2025-09-04T11:09:21.893323",
   "environment_variables": {},
   "exception": null,
   "input_path": "__notebook__.ipynb",
   "output_path": "__notebook__.ipynb",
   "parameters": {},
   "start_time": "2025-09-04T10:57:03.746673",
   "version": "2.6.0"
  }
 },
 "nbformat": 4,
 "nbformat_minor": 5
}
